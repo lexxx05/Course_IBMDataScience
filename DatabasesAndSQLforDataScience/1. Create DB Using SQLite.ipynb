{
 "cells": [
  {
   "cell_type": "markdown",
   "id": "654518af",
   "metadata": {},
   "source": [
    "## Creatre a database Using SQLite"
   ]
  },
  {
   "cell_type": "code",
   "execution_count": 3,
   "id": "547e968f",
   "metadata": {},
   "outputs": [],
   "source": [
    "import sqlite3"
   ]
  },
  {
   "cell_type": "code",
   "execution_count": 6,
   "id": "5c36a5df",
   "metadata": {},
   "outputs": [],
   "source": [
    "#make a connection object\n",
    "connection = sqlite3.connect('INSTRUCTOR.db')"
   ]
  },
  {
   "cell_type": "code",
   "execution_count": 11,
   "id": "6c17da7c",
   "metadata": {},
   "outputs": [],
   "source": [
    "#create a cursor object\n",
    "#it is an instance using when we can invoke methods to execute SQLite statements\n",
    "#such as fetch data from the result sets of the queries\n",
    "\n",
    "cursorObj = connection.cursor()"
   ]
  },
  {
   "cell_type": "markdown",
   "id": "27a6fd0e",
   "metadata": {},
   "source": [
    "## Create a table in the Database"
   ]
  },
  {
   "cell_type": "markdown",
   "id": "276561ed",
   "metadata": {},
   "source": [
    "In this step we will create a table in the database with following details:\n",
    "\n",
    "<img src=\"https://cf-courses-data.s3.us.cloud-object-storage.appdomain.cloud/IBMDeveloperSkillsNetwork-DB0201EN-SkillsNetwork/labs/FinalModule_Coursera_V5/images/table.png\" align=\"center\">"
   ]
  },
  {
   "cell_type": "code",
   "execution_count": 13,
   "id": "3ef7ad24",
   "metadata": {},
   "outputs": [
    {
     "data": {
      "text/plain": [
       "<sqlite3.Cursor at 0x1de56b0bb40>"
      ]
     },
     "execution_count": 13,
     "metadata": {},
     "output_type": "execute_result"
    }
   ],
   "source": [
    "#first, we need to check if the table alr exist or not\n",
    "#to drop the table from database, use DROP query\n",
    "\n",
    "#Drop the table if it alr exist\n",
    "cursorObj.execute(\"Drop Table if Exists Instructor\")"
   ]
  },
  {
   "cell_type": "code",
   "execution_count": 17,
   "id": "eaf7fa17",
   "metadata": {},
   "outputs": [
    {
     "name": "stdout",
     "output_type": "stream",
     "text": [
      "Table is ready\n"
     ]
    }
   ],
   "source": [
    "#create a table, by assign the statement into table objects\n",
    "table = \"\"\"create table if not exists instructor(id integer primary key not null, fname varchar(20), lname varchar(20), city varchar(20), ccode char(2));\"\"\"\n",
    "\n",
    "#next, send the parameter to create the database object\n",
    "cursorObj.execute(table)\n",
    "\n",
    "print (\"Table is ready\")"
   ]
  },
  {
   "cell_type": "markdown",
   "id": "3780ca49",
   "metadata": {},
   "source": [
    "## Insert data into the table"
   ]
  },
  {
   "cell_type": "markdown",
   "id": "2a8cdd30",
   "metadata": {},
   "source": [
    "The INSTRUCTOR table we created in the previous step contains 3 rows of data:\n",
    "\n",
    "<img src=\"https://cf-courses-data.s3.us.cloud-object-storage.appdomain.cloud/IBMDeveloperSkillsNetwork-DB0201EN-SkillsNetwork/labs/FinalModule_Coursera_V5/images/table1.png\" align=\"center\">"
   ]
  },
  {
   "cell_type": "code",
   "execution_count": 18,
   "id": "dbc1e98a",
   "metadata": {},
   "outputs": [
    {
     "data": {
      "text/plain": [
       "<sqlite3.Cursor at 0x1de56b0bb40>"
      ]
     },
     "execution_count": 18,
     "metadata": {},
     "output_type": "execute_result"
    }
   ],
   "source": [
    "#insert the first row value\n",
    "cursorObj.execute(\"\"\"insert into instructor values(1, 'Rav','Ahuja','TORONTO','CA');\"\"\")"
   ]
  },
  {
   "cell_type": "code",
   "execution_count": 22,
   "id": "1a513083",
   "metadata": {},
   "outputs": [
    {
     "data": {
      "text/plain": [
       "<sqlite3.Cursor at 0x1de56b0bb40>"
      ]
     },
     "execution_count": 22,
     "metadata": {},
     "output_type": "execute_result"
    }
   ],
   "source": [
    "#insert the second row value\n",
    "cursorObj.execute('''insert into INSTRUCTOR values (2, 'Raul', 'Chong', 'Markham', 'CA'), (3, 'Hima', 'Vasudevan', 'Chicago', 'US')''')"
   ]
  },
  {
   "cell_type": "markdown",
   "id": "2788f509",
   "metadata": {},
   "source": [
    "## Query Data in the Table"
   ]
  },
  {
   "cell_type": "code",
   "execution_count": 25,
   "id": "4f4efb17",
   "metadata": {},
   "outputs": [
    {
     "name": "stdout",
     "output_type": "stream",
     "text": [
      "All the Instructor Data: \n",
      "rows 1 : (1, 'Rav', 'Ahuja', 'TORONTO', 'CA')\n",
      "rows 2 : (2, 'Raul', 'Chong', 'Markham', 'CA')\n",
      "rows 3 : (3, 'Hima', 'Vasudevan', 'Chicago', 'US')\n"
     ]
    }
   ],
   "source": [
    "#we will retrieve all of the data from sql that we create in statement object\n",
    "statement = \"\"\"SELECT * FROM INSTRUCTOR\"\"\"\n",
    "cursorObj.execute(statement)\n",
    "\n",
    "#next we will convert the retrieved data to python, by .fetchall syntax\n",
    "print (\"All the Instructor Data: \")\n",
    "#create a list to retrieve the fetched sql databases\n",
    "output = cursorObj.fetchall()\n",
    "\n",
    "i = 1\n",
    "for rows in output:\n",
    "    print (\"rows\",i,\":\",rows)\n",
    "    i += 1"
   ]
  },
  {
   "cell_type": "code",
   "execution_count": 26,
   "id": "0844faab",
   "metadata": {},
   "outputs": [
    {
     "name": "stdout",
     "output_type": "stream",
     "text": [
      "First Name Data: \n",
      "('Rav',)\n",
      "('Raul',)\n",
      "('Hima',)\n"
     ]
    }
   ],
   "source": [
    "#fetch only fname from the table\n",
    "statement = \"\"\"SELECT FNAME FROM INSTRUCTOR\"\"\"\n",
    "cursorObj.execute(statement)\n",
    "\n",
    "print (\"First Name Data: \")\n",
    "output = cursorObj.fetchall()\n",
    "for row in output:\n",
    "    print (row)"
   ]
  },
  {
   "cell_type": "code",
   "execution_count": 30,
   "id": "efe684a9",
   "metadata": {},
   "outputs": [
    {
     "name": "stdout",
     "output_type": "stream",
     "text": [
      "All the updated data: \n",
      "(1, 'Rav', 'Ahuja', 'MOOSETOWN', 'CA')\n",
      "(2, 'Raul', 'Chong', 'Markham', 'CA')\n"
     ]
    }
   ],
   "source": [
    "#update statements\n",
    "update = \"\"\"update instructor set city = 'MOOSETOWN' where fname = 'Rav'\"\"\"\n",
    "cursorObj.execute(update)\n",
    "\n",
    "#select all to display\n",
    "statement = \"\"\"select * from instructor\"\"\"\n",
    "cursorObj.execute(statement)\n",
    "\n",
    "print (\"All the updated data: \")\n",
    "output = cursorObj.fetchmany(2)\n",
    "\n",
    "for row in output:\n",
    "    print(row)"
   ]
  },
  {
   "cell_type": "markdown",
   "id": "8ff3582b",
   "metadata": {},
   "source": [
    "## Retrieve data into Pandas"
   ]
  },
  {
   "cell_type": "code",
   "execution_count": 31,
   "id": "55ea8db3",
   "metadata": {},
   "outputs": [
    {
     "data": {
      "text/html": [
       "<div>\n",
       "<style scoped>\n",
       "    .dataframe tbody tr th:only-of-type {\n",
       "        vertical-align: middle;\n",
       "    }\n",
       "\n",
       "    .dataframe tbody tr th {\n",
       "        vertical-align: top;\n",
       "    }\n",
       "\n",
       "    .dataframe thead th {\n",
       "        text-align: right;\n",
       "    }\n",
       "</style>\n",
       "<table border=\"1\" class=\"dataframe\">\n",
       "  <thead>\n",
       "    <tr style=\"text-align: right;\">\n",
       "      <th></th>\n",
       "      <th>id</th>\n",
       "      <th>fname</th>\n",
       "      <th>lname</th>\n",
       "      <th>city</th>\n",
       "      <th>ccode</th>\n",
       "    </tr>\n",
       "  </thead>\n",
       "  <tbody>\n",
       "    <tr>\n",
       "      <th>0</th>\n",
       "      <td>1</td>\n",
       "      <td>Rav</td>\n",
       "      <td>Ahuja</td>\n",
       "      <td>MOOSETOWN</td>\n",
       "      <td>CA</td>\n",
       "    </tr>\n",
       "    <tr>\n",
       "      <th>1</th>\n",
       "      <td>2</td>\n",
       "      <td>Raul</td>\n",
       "      <td>Chong</td>\n",
       "      <td>Markham</td>\n",
       "      <td>CA</td>\n",
       "    </tr>\n",
       "    <tr>\n",
       "      <th>2</th>\n",
       "      <td>3</td>\n",
       "      <td>Hima</td>\n",
       "      <td>Vasudevan</td>\n",
       "      <td>Chicago</td>\n",
       "      <td>US</td>\n",
       "    </tr>\n",
       "  </tbody>\n",
       "</table>\n",
       "</div>"
      ],
      "text/plain": [
       "   id fname      lname       city ccode\n",
       "0   1   Rav      Ahuja  MOOSETOWN    CA\n",
       "1   2  Raul      Chong    Markham    CA\n",
       "2   3  Hima  Vasudevan    Chicago    US"
      ]
     },
     "execution_count": 31,
     "metadata": {},
     "output_type": "execute_result"
    }
   ],
   "source": [
    "import pandas as pd\n",
    "\n",
    "#retrieve the query results into a pandas dataframe\n",
    "df = pd.read_sql_query(\"select * from instructor\",connection)\n",
    "\n",
    "df"
   ]
  },
  {
   "cell_type": "markdown",
   "id": "d483603f",
   "metadata": {},
   "source": [
    "## Close the connection"
   ]
  },
  {
   "cell_type": "code",
   "execution_count": 33,
   "id": "11ce6b90",
   "metadata": {},
   "outputs": [],
   "source": [
    "connection.close()"
   ]
  }
 ],
 "metadata": {
  "kernelspec": {
   "display_name": "Python 3 (ipykernel)",
   "language": "python",
   "name": "python3"
  },
  "language_info": {
   "codemirror_mode": {
    "name": "ipython",
    "version": 3
   },
   "file_extension": ".py",
   "mimetype": "text/x-python",
   "name": "python",
   "nbconvert_exporter": "python",
   "pygments_lexer": "ipython3",
   "version": "3.11.4"
  }
 },
 "nbformat": 4,
 "nbformat_minor": 5
}
