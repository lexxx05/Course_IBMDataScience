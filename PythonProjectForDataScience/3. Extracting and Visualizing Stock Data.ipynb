{
 "cells": [
  {
   "cell_type": "code",
   "execution_count": 1,
   "id": "1158bc33",
   "metadata": {},
   "outputs": [],
   "source": [
    "import yfinance as yf\n",
    "import pandas as pd\n",
    "import requests\n",
    "from bs4 import BeautifulSoup\n",
    "import plotly.graph_objects as go\n",
    "from plotly.subplots import make_subplots"
   ]
  },
  {
   "cell_type": "markdown",
   "id": "f7244f01",
   "metadata": {},
   "source": [
    "**Create a Function to Make a Graph**"
   ]
  },
  {
   "cell_type": "code",
   "execution_count": 2,
   "id": "ededeaae",
   "metadata": {},
   "outputs": [],
   "source": [
    "def makeGraph (stockData, revenueData, stock):\n",
    "    fig = make_subplots (rows = 2, cols = 1, shared_xaxes = True, subplot_titles = (\"Historical Share Price\", \"Historical Revenue\"), vertical_spacing = 0.3)\n",
    "    stockDataSpecific = stockData[stockData.Date <= '2021--06-14']\n",
    "    revenueDataSpecific = revenueData[revenueData.Date <= '2021-04-30']\n",
    "    fig.add_trace(go.Scatter(x = pd.to_datetime(stockDataSpecific.Date, infer_datetime_format = True), y = stockDataSpecific.Close.astype(\"float\"), name = \"Share Price\"), row = 1, col = 1)\n",
    "    fig.add_trace(go.Scatter(x = pd.to_datetime(revenueDataSpecific.Date, infer_datetime_format = True), y = revenueDataSpecific.Revenue.astype(\"float\"), name = \"Revenue\"), row = 1, col = 1)\n",
    "    fig.update_xaxes(title_text = \"Date\", row = 1, col = 1)\n",
    "    fig.update_xaxes(title_text = \"Date\", row = 2, col = 1)\n",
    "    fig.update_yaxes(title_text = \"Price ($US Millions)\", row = 1, col = 1)\n",
    "    fig.update_yaxes(title_text = \"Revenue ($US Millions)\", row = 2, col = 1)\n",
    "    fig.update_layout(showlegend = False, height = 900, title = stock, xaxis_rangeslider_visible = True)\n",
    "    fig.show()"
   ]
  },
  {
   "cell_type": "code",
   "execution_count": null,
   "id": "6d9a5e41",
   "metadata": {},
   "outputs": [],
   "source": []
  }
 ],
 "metadata": {
  "kernelspec": {
   "display_name": "Python 3 (ipykernel)",
   "language": "python",
   "name": "python3"
  },
  "language_info": {
   "codemirror_mode": {
    "name": "ipython",
    "version": 3
   },
   "file_extension": ".py",
   "mimetype": "text/x-python",
   "name": "python",
   "nbconvert_exporter": "python",
   "pygments_lexer": "ipython3",
   "version": "3.11.4"
  }
 },
 "nbformat": 4,
 "nbformat_minor": 5
}
