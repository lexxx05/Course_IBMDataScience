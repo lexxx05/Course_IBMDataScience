{
 "cells": [
  {
   "cell_type": "markdown",
   "id": "758e2b6b-a39c-458c-9048-7a0b480c24b6",
   "metadata": {},
   "source": [
    "# IBM Data Science Capstone Project\n",
    "\n",
    "## || Part 3.2. : Exploratory Data Analysis with SQL"
   ]
  },
  {
   "cell_type": "code",
   "execution_count": 1,
   "id": "733c4ee4-c19c-4a33-bab0-e1a6839ba450",
   "metadata": {},
   "outputs": [
    {
     "data": {
      "text/plain": [
       "'Connected: @ExerciseDB1.db'"
      ]
     },
     "execution_count": 1,
     "metadata": {},
     "output_type": "execute_result"
    }
   ],
   "source": [
    "import csv, sqlite3, prettytable\n",
    "prettytable.DEFAULT = 'DEFAULT'\n",
    "\n",
    "connection = sqlite3.connect(\"ExerciseDB1.db\")\n",
    "cur = connection.cursor()\n",
    "%load_ext sql\n",
    "\n",
    "%sql sqlite:///ExerciseDB1.db"
   ]
  },
  {
   "cell_type": "code",
   "execution_count": 2,
   "id": "d5bd4344-0d77-4888-8dda-564774289975",
   "metadata": {},
   "outputs": [
    {
     "data": {
      "text/plain": [
       "101"
      ]
     },
     "execution_count": 2,
     "metadata": {},
     "output_type": "execute_result"
    }
   ],
   "source": [
    "import pandas as pd\n",
    "df = pd.read_csv(\"https://cf-courses-data.s3.us.cloud-object-storage.appdomain.cloud/IBM-DS0321EN-SkillsNetwork/labs/module_2/data/Spacex.csv\")\n",
    "df.to_sql(\"spacexTable\", connection, if_exists='replace', index=False,method=\"multi\")"
   ]
  },
  {
   "cell_type": "code",
   "execution_count": 3,
   "id": "3886f139-3aa0-4a1e-832d-bae1daae1d26",
   "metadata": {},
   "outputs": [
    {
     "name": "stdout",
     "output_type": "stream",
     "text": [
      " * sqlite:///ExerciseDB1.db\n",
      "(sqlite3.OperationalError) near \"EXIST\": syntax error\n",
      "[SQL: DROP TABLE IF EXIST spacexTable]\n",
      "(Background on this error at: http://sqlalche.me/e/14/e3q8)\n",
      " * sqlite:///ExerciseDB1.db\n",
      "(sqlite3.OperationalError) table SPACEXTABLE already exists\n",
      "[SQL: CREATE TABLE SPACEXTABLE AS SELECT * FROM SPACEXTABLE WHERE DATE IS NOT NULL]\n",
      "(Background on this error at: http://sqlalche.me/e/14/e3q8)\n",
      " * sqlite:///ExerciseDB1.db\n",
      "Done.\n"
     ]
    },
    {
     "data": {
      "text/html": [
       "<table>\n",
       "    <thead>\n",
       "        <tr>\n",
       "            <th>Date</th>\n",
       "            <th>Time (UTC)</th>\n",
       "            <th>Booster_Version</th>\n",
       "            <th>Launch_Site</th>\n",
       "            <th>Payload</th>\n",
       "            <th>PAYLOAD_MASS__KG_</th>\n",
       "            <th>Orbit</th>\n",
       "            <th>Customer</th>\n",
       "            <th>Mission_Outcome</th>\n",
       "            <th>Landing_Outcome</th>\n",
       "        </tr>\n",
       "    </thead>\n",
       "    <tbody>\n",
       "        <tr>\n",
       "            <td>2010-06-04</td>\n",
       "            <td>18:45:00</td>\n",
       "            <td>F9 v1.0  B0003</td>\n",
       "            <td>CCAFS LC-40</td>\n",
       "            <td>Dragon Spacecraft Qualification Unit</td>\n",
       "            <td>0</td>\n",
       "            <td>LEO</td>\n",
       "            <td>SpaceX</td>\n",
       "            <td>Success</td>\n",
       "            <td>Failure (parachute)</td>\n",
       "        </tr>\n",
       "        <tr>\n",
       "            <td>2010-12-08</td>\n",
       "            <td>15:43:00</td>\n",
       "            <td>F9 v1.0  B0004</td>\n",
       "            <td>CCAFS LC-40</td>\n",
       "            <td>Dragon demo flight C1, two CubeSats, barrel of Brouere cheese</td>\n",
       "            <td>0</td>\n",
       "            <td>LEO (ISS)</td>\n",
       "            <td>NASA (COTS) NRO</td>\n",
       "            <td>Success</td>\n",
       "            <td>Failure (parachute)</td>\n",
       "        </tr>\n",
       "        <tr>\n",
       "            <td>2012-05-22</td>\n",
       "            <td>7:44:00</td>\n",
       "            <td>F9 v1.0  B0005</td>\n",
       "            <td>CCAFS LC-40</td>\n",
       "            <td>Dragon demo flight C2</td>\n",
       "            <td>525</td>\n",
       "            <td>LEO (ISS)</td>\n",
       "            <td>NASA (COTS)</td>\n",
       "            <td>Success</td>\n",
       "            <td>No attempt</td>\n",
       "        </tr>\n",
       "    </tbody>\n",
       "</table>"
      ],
      "text/plain": [
       "[('2010-06-04', '18:45:00', 'F9 v1.0  B0003', 'CCAFS LC-40', 'Dragon Spacecraft Qualification Unit', 0, 'LEO', 'SpaceX', 'Success', 'Failure (parachute)'),\n",
       " ('2010-12-08', '15:43:00', 'F9 v1.0  B0004', 'CCAFS LC-40', 'Dragon demo flight C1, two CubeSats, barrel of Brouere cheese', 0, 'LEO (ISS)', 'NASA (COTS) NRO', 'Success', 'Failure (parachute)'),\n",
       " ('2012-05-22', '7:44:00', 'F9 v1.0  B0005', 'CCAFS LC-40', 'Dragon demo flight C2', 525, 'LEO (ISS)', 'NASA (COTS)', 'Success', 'No attempt')]"
      ]
     },
     "execution_count": 3,
     "metadata": {},
     "output_type": "execute_result"
    }
   ],
   "source": [
    "# Remove the blank rows from the tabel\n",
    "%sql DROP TABLE IF EXIST spacexTable\n",
    "%sql CREATE TABLE SPACEXTABLE AS SELECT * FROM SPACEXTABLE WHERE DATE IS NOT NULL\n",
    "%sql SELECT * FROM SPACEXTABLE LIMIT 3"
   ]
  },
  {
   "cell_type": "markdown",
   "id": "ff10440c-6a70-47f1-ad7c-c23cd205227c",
   "metadata": {},
   "source": [
    "1. Names of Unique Launch Sites in Mission"
   ]
  },
  {
   "cell_type": "code",
   "execution_count": 4,
   "id": "20dcb657-fe60-47c1-b80d-7786b4e22149",
   "metadata": {},
   "outputs": [
    {
     "name": "stdout",
     "output_type": "stream",
     "text": [
      " * sqlite:///ExerciseDB1.db\n",
      "Done.\n"
     ]
    },
    {
     "data": {
      "text/html": [
       "<table>\n",
       "    <thead>\n",
       "        <tr>\n",
       "            <th>Launch_Site</th>\n",
       "        </tr>\n",
       "    </thead>\n",
       "    <tbody>\n",
       "        <tr>\n",
       "            <td>CCAFS LC-40</td>\n",
       "        </tr>\n",
       "        <tr>\n",
       "            <td>VAFB SLC-4E</td>\n",
       "        </tr>\n",
       "        <tr>\n",
       "            <td>KSC LC-39A</td>\n",
       "        </tr>\n",
       "        <tr>\n",
       "            <td>CCAFS SLC-40</td>\n",
       "        </tr>\n",
       "    </tbody>\n",
       "</table>"
      ],
      "text/plain": [
       "[('CCAFS LC-40',), ('VAFB SLC-4E',), ('KSC LC-39A',), ('CCAFS SLC-40',)]"
      ]
     },
     "execution_count": 4,
     "metadata": {},
     "output_type": "execute_result"
    }
   ],
   "source": [
    "%sql SELECT DISTINCT(LAUNCH_SITE) FROM SPACEXTABLE"
   ]
  },
  {
   "cell_type": "markdown",
   "id": "569a2c93-931b-418c-9f95-62dafd3932aa",
   "metadata": {},
   "source": [
    "2. 5 Records where Launch Sites Begin with \"CCA\""
   ]
  },
  {
   "cell_type": "code",
   "execution_count": 5,
   "id": "7a19ffd3-c871-4dfa-a6c8-ce9956ee2896",
   "metadata": {},
   "outputs": [
    {
     "name": "stdout",
     "output_type": "stream",
     "text": [
      " * sqlite:///ExerciseDB1.db\n",
      "Done.\n"
     ]
    },
    {
     "data": {
      "text/html": [
       "<table>\n",
       "    <thead>\n",
       "        <tr>\n",
       "            <th>Date</th>\n",
       "            <th>Time (UTC)</th>\n",
       "            <th>Booster_Version</th>\n",
       "            <th>Launch_Site</th>\n",
       "            <th>Payload</th>\n",
       "            <th>PAYLOAD_MASS__KG_</th>\n",
       "            <th>Orbit</th>\n",
       "            <th>Customer</th>\n",
       "            <th>Mission_Outcome</th>\n",
       "            <th>Landing_Outcome</th>\n",
       "        </tr>\n",
       "    </thead>\n",
       "    <tbody>\n",
       "        <tr>\n",
       "            <td>2010-06-04</td>\n",
       "            <td>18:45:00</td>\n",
       "            <td>F9 v1.0  B0003</td>\n",
       "            <td>CCAFS LC-40</td>\n",
       "            <td>Dragon Spacecraft Qualification Unit</td>\n",
       "            <td>0</td>\n",
       "            <td>LEO</td>\n",
       "            <td>SpaceX</td>\n",
       "            <td>Success</td>\n",
       "            <td>Failure (parachute)</td>\n",
       "        </tr>\n",
       "        <tr>\n",
       "            <td>2010-12-08</td>\n",
       "            <td>15:43:00</td>\n",
       "            <td>F9 v1.0  B0004</td>\n",
       "            <td>CCAFS LC-40</td>\n",
       "            <td>Dragon demo flight C1, two CubeSats, barrel of Brouere cheese</td>\n",
       "            <td>0</td>\n",
       "            <td>LEO (ISS)</td>\n",
       "            <td>NASA (COTS) NRO</td>\n",
       "            <td>Success</td>\n",
       "            <td>Failure (parachute)</td>\n",
       "        </tr>\n",
       "        <tr>\n",
       "            <td>2012-05-22</td>\n",
       "            <td>7:44:00</td>\n",
       "            <td>F9 v1.0  B0005</td>\n",
       "            <td>CCAFS LC-40</td>\n",
       "            <td>Dragon demo flight C2</td>\n",
       "            <td>525</td>\n",
       "            <td>LEO (ISS)</td>\n",
       "            <td>NASA (COTS)</td>\n",
       "            <td>Success</td>\n",
       "            <td>No attempt</td>\n",
       "        </tr>\n",
       "        <tr>\n",
       "            <td>2012-10-08</td>\n",
       "            <td>0:35:00</td>\n",
       "            <td>F9 v1.0  B0006</td>\n",
       "            <td>CCAFS LC-40</td>\n",
       "            <td>SpaceX CRS-1</td>\n",
       "            <td>500</td>\n",
       "            <td>LEO (ISS)</td>\n",
       "            <td>NASA (CRS)</td>\n",
       "            <td>Success</td>\n",
       "            <td>No attempt</td>\n",
       "        </tr>\n",
       "        <tr>\n",
       "            <td>2013-03-01</td>\n",
       "            <td>15:10:00</td>\n",
       "            <td>F9 v1.0  B0007</td>\n",
       "            <td>CCAFS LC-40</td>\n",
       "            <td>SpaceX CRS-2</td>\n",
       "            <td>677</td>\n",
       "            <td>LEO (ISS)</td>\n",
       "            <td>NASA (CRS)</td>\n",
       "            <td>Success</td>\n",
       "            <td>No attempt</td>\n",
       "        </tr>\n",
       "    </tbody>\n",
       "</table>"
      ],
      "text/plain": [
       "[('2010-06-04', '18:45:00', 'F9 v1.0  B0003', 'CCAFS LC-40', 'Dragon Spacecraft Qualification Unit', 0, 'LEO', 'SpaceX', 'Success', 'Failure (parachute)'),\n",
       " ('2010-12-08', '15:43:00', 'F9 v1.0  B0004', 'CCAFS LC-40', 'Dragon demo flight C1, two CubeSats, barrel of Brouere cheese', 0, 'LEO (ISS)', 'NASA (COTS) NRO', 'Success', 'Failure (parachute)'),\n",
       " ('2012-05-22', '7:44:00', 'F9 v1.0  B0005', 'CCAFS LC-40', 'Dragon demo flight C2', 525, 'LEO (ISS)', 'NASA (COTS)', 'Success', 'No attempt'),\n",
       " ('2012-10-08', '0:35:00', 'F9 v1.0  B0006', 'CCAFS LC-40', 'SpaceX CRS-1', 500, 'LEO (ISS)', 'NASA (CRS)', 'Success', 'No attempt'),\n",
       " ('2013-03-01', '15:10:00', 'F9 v1.0  B0007', 'CCAFS LC-40', 'SpaceX CRS-2', 677, 'LEO (ISS)', 'NASA (CRS)', 'Success', 'No attempt')]"
      ]
     },
     "execution_count": 5,
     "metadata": {},
     "output_type": "execute_result"
    }
   ],
   "source": [
    "%sql SELECT * FROM SPACEXTABLE WHERE LAUNCH_SITE LIKE 'CCA%' LIMIT 5"
   ]
  },
  {
   "cell_type": "markdown",
   "id": "1a681c37-1418-48d8-8caf-83fa60a2448c",
   "metadata": {},
   "source": [
    "3. Total Payload Mass Carried by Boosters Launched by NASA"
   ]
  },
  {
   "cell_type": "code",
   "execution_count": 6,
   "id": "4ef386cb-d46b-4939-a1da-6c243c321afa",
   "metadata": {},
   "outputs": [
    {
     "name": "stdout",
     "output_type": "stream",
     "text": [
      " * sqlite:///ExerciseDB1.db\n",
      "Done.\n"
     ]
    },
    {
     "data": {
      "text/html": [
       "<table>\n",
       "    <thead>\n",
       "        <tr>\n",
       "            <th>Booster_Version</th>\n",
       "            <th>SUM(PAYLOAD_MASS__KG_)</th>\n",
       "        </tr>\n",
       "    </thead>\n",
       "    <tbody>\n",
       "        <tr>\n",
       "            <td>F9 B4  B1039.2</td>\n",
       "            <td>2647</td>\n",
       "        </tr>\n",
       "        <tr>\n",
       "            <td>F9 B4 B1039.1</td>\n",
       "            <td>3310</td>\n",
       "        </tr>\n",
       "        <tr>\n",
       "            <td>F9 B4 B1045.1</td>\n",
       "            <td>362</td>\n",
       "        </tr>\n",
       "        <tr>\n",
       "            <td>F9 B4 B1045.2</td>\n",
       "            <td>2697</td>\n",
       "        </tr>\n",
       "        <tr>\n",
       "            <td>F9 B5 B1046.4</td>\n",
       "            <td>12050</td>\n",
       "        </tr>\n",
       "        <tr>\n",
       "            <td>F9 B5 B1056.2 </td>\n",
       "            <td>2268</td>\n",
       "        </tr>\n",
       "        <tr>\n",
       "            <td>F9 B5 B1058.4 </td>\n",
       "            <td>2972</td>\n",
       "        </tr>\n",
       "        <tr>\n",
       "            <td>F9 B5 B1059.2</td>\n",
       "            <td>1977</td>\n",
       "        </tr>\n",
       "        <tr>\n",
       "            <td>F9 B5B1050</td>\n",
       "            <td>2500</td>\n",
       "        </tr>\n",
       "        <tr>\n",
       "            <td>F9 B5B1051.1</td>\n",
       "            <td>12055</td>\n",
       "        </tr>\n",
       "        <tr>\n",
       "            <td>F9 B5B1056.1 </td>\n",
       "            <td>2495</td>\n",
       "        </tr>\n",
       "        <tr>\n",
       "            <td>F9 B5B1058.1 </td>\n",
       "            <td>12530</td>\n",
       "        </tr>\n",
       "        <tr>\n",
       "            <td>F9 B5B1059.1</td>\n",
       "            <td>2617</td>\n",
       "        </tr>\n",
       "        <tr>\n",
       "            <td>F9 B5B1061.1 </td>\n",
       "            <td>12500</td>\n",
       "        </tr>\n",
       "        <tr>\n",
       "            <td>F9 B5B1063.1</td>\n",
       "            <td>1192</td>\n",
       "        </tr>\n",
       "        <tr>\n",
       "            <td>F9 FT  B1035.2</td>\n",
       "            <td>2205</td>\n",
       "        </tr>\n",
       "        <tr>\n",
       "            <td>F9 FT B1021.1</td>\n",
       "            <td>3136</td>\n",
       "        </tr>\n",
       "        <tr>\n",
       "            <td>F9 FT B1025.1</td>\n",
       "            <td>2257</td>\n",
       "        </tr>\n",
       "        <tr>\n",
       "            <td>F9 FT B1031.1</td>\n",
       "            <td>2490</td>\n",
       "        </tr>\n",
       "        <tr>\n",
       "            <td>F9 FT B1035.1</td>\n",
       "            <td>2708</td>\n",
       "        </tr>\n",
       "        <tr>\n",
       "            <td>F9 v1.0  B0004</td>\n",
       "            <td>0</td>\n",
       "        </tr>\n",
       "        <tr>\n",
       "            <td>F9 v1.0  B0005</td>\n",
       "            <td>525</td>\n",
       "        </tr>\n",
       "        <tr>\n",
       "            <td>F9 v1.0  B0006</td>\n",
       "            <td>500</td>\n",
       "        </tr>\n",
       "        <tr>\n",
       "            <td>F9 v1.0  B0007</td>\n",
       "            <td>677</td>\n",
       "        </tr>\n",
       "        <tr>\n",
       "            <td>F9 v1.1</td>\n",
       "            <td>2296</td>\n",
       "        </tr>\n",
       "        <tr>\n",
       "            <td>F9 v1.1 B1010</td>\n",
       "            <td>2216</td>\n",
       "        </tr>\n",
       "        <tr>\n",
       "            <td>F9 v1.1 B1012</td>\n",
       "            <td>2395</td>\n",
       "        </tr>\n",
       "        <tr>\n",
       "            <td>F9 v1.1 B1015</td>\n",
       "            <td>1898</td>\n",
       "        </tr>\n",
       "        <tr>\n",
       "            <td>F9 v1.1 B1017</td>\n",
       "            <td>553</td>\n",
       "        </tr>\n",
       "        <tr>\n",
       "            <td>F9 v1.1 B1018</td>\n",
       "            <td>1952</td>\n",
       "        </tr>\n",
       "    </tbody>\n",
       "</table>"
      ],
      "text/plain": [
       "[('F9 B4  B1039.2', 2647),\n",
       " ('F9 B4 B1039.1', 3310),\n",
       " ('F9 B4 B1045.1', 362),\n",
       " ('F9 B4 B1045.2', 2697),\n",
       " ('F9 B5 B1046.4', 12050),\n",
       " ('F9 B5 B1056.2 ', 2268),\n",
       " ('F9 B5 B1058.4 ', 2972),\n",
       " ('F9 B5 B1059.2', 1977),\n",
       " ('F9 B5B1050', 2500),\n",
       " ('F9 B5B1051.1', 12055),\n",
       " ('F9 B5B1056.1 ', 2495),\n",
       " ('F9 B5B1058.1 ', 12530),\n",
       " ('F9 B5B1059.1', 2617),\n",
       " ('F9 B5B1061.1 ', 12500),\n",
       " ('F9 B5B1063.1', 1192),\n",
       " ('F9 FT  B1035.2', 2205),\n",
       " ('F9 FT B1021.1', 3136),\n",
       " ('F9 FT B1025.1', 2257),\n",
       " ('F9 FT B1031.1', 2490),\n",
       " ('F9 FT B1035.1', 2708),\n",
       " ('F9 v1.0  B0004', 0),\n",
       " ('F9 v1.0  B0005', 525),\n",
       " ('F9 v1.0  B0006', 500),\n",
       " ('F9 v1.0  B0007', 677),\n",
       " ('F9 v1.1', 2296),\n",
       " ('F9 v1.1 B1010', 2216),\n",
       " ('F9 v1.1 B1012', 2395),\n",
       " ('F9 v1.1 B1015', 1898),\n",
       " ('F9 v1.1 B1017', 553),\n",
       " ('F9 v1.1 B1018', 1952)]"
      ]
     },
     "execution_count": 6,
     "metadata": {},
     "output_type": "execute_result"
    }
   ],
   "source": [
    "%sql SELECT BOOSTER_VERSION, SUM(PAYLOAD_MASS__KG_) FROM SPACEXTABLE WHERE CUSTOMER LIKE 'NASA%' GROUP BY BOOSTER_VERSION"
   ]
  },
  {
   "cell_type": "markdown",
   "id": "d7a02140-4840-4729-8ee8-4269a1caae6d",
   "metadata": {},
   "source": [
    "4. Average Payload Mass Carried by Booster Version F9 V1.1"
   ]
  },
  {
   "cell_type": "code",
   "execution_count": 7,
   "id": "ab04e009-d13b-450f-b7f7-90266e7dbae9",
   "metadata": {},
   "outputs": [
    {
     "name": "stdout",
     "output_type": "stream",
     "text": [
      " * sqlite:///ExerciseDB1.db\n",
      "Done.\n"
     ]
    },
    {
     "data": {
      "text/html": [
       "<table>\n",
       "    <thead>\n",
       "        <tr>\n",
       "            <th>Booster_Version</th>\n",
       "            <th>AVG(PAYLOAD_MASS__KG_)</th>\n",
       "        </tr>\n",
       "    </thead>\n",
       "    <tbody>\n",
       "        <tr>\n",
       "            <td>F9 v1.1</td>\n",
       "            <td>2928.4</td>\n",
       "        </tr>\n",
       "        <tr>\n",
       "            <td>F9 v1.1  B1003</td>\n",
       "            <td>500.0</td>\n",
       "        </tr>\n",
       "        <tr>\n",
       "            <td>F9 v1.1 B1010</td>\n",
       "            <td>2216.0</td>\n",
       "        </tr>\n",
       "        <tr>\n",
       "            <td>F9 v1.1 B1011</td>\n",
       "            <td>4428.0</td>\n",
       "        </tr>\n",
       "        <tr>\n",
       "            <td>F9 v1.1 B1012</td>\n",
       "            <td>2395.0</td>\n",
       "        </tr>\n",
       "        <tr>\n",
       "            <td>F9 v1.1 B1013</td>\n",
       "            <td>570.0</td>\n",
       "        </tr>\n",
       "        <tr>\n",
       "            <td>F9 v1.1 B1014</td>\n",
       "            <td>4159.0</td>\n",
       "        </tr>\n",
       "        <tr>\n",
       "            <td>F9 v1.1 B1015</td>\n",
       "            <td>1898.0</td>\n",
       "        </tr>\n",
       "        <tr>\n",
       "            <td>F9 v1.1 B1016</td>\n",
       "            <td>4707.0</td>\n",
       "        </tr>\n",
       "        <tr>\n",
       "            <td>F9 v1.1 B1017</td>\n",
       "            <td>553.0</td>\n",
       "        </tr>\n",
       "        <tr>\n",
       "            <td>F9 v1.1 B1018</td>\n",
       "            <td>1952.0</td>\n",
       "        </tr>\n",
       "    </tbody>\n",
       "</table>"
      ],
      "text/plain": [
       "[('F9 v1.1', 2928.4),\n",
       " ('F9 v1.1  B1003', 500.0),\n",
       " ('F9 v1.1 B1010', 2216.0),\n",
       " ('F9 v1.1 B1011', 4428.0),\n",
       " ('F9 v1.1 B1012', 2395.0),\n",
       " ('F9 v1.1 B1013', 570.0),\n",
       " ('F9 v1.1 B1014', 4159.0),\n",
       " ('F9 v1.1 B1015', 1898.0),\n",
       " ('F9 v1.1 B1016', 4707.0),\n",
       " ('F9 v1.1 B1017', 553.0),\n",
       " ('F9 v1.1 B1018', 1952.0)]"
      ]
     },
     "execution_count": 7,
     "metadata": {},
     "output_type": "execute_result"
    }
   ],
   "source": [
    "%sql SELECT BOOSTER_VERSION, AVG(PAYLOAD_MASS__KG_) FROM SPACEXTABLE WHERE BOOSTER_VERSION LIKE 'F9 V1.1%' GROUP BY BOOSTER_VERSION"
   ]
  },
  {
   "cell_type": "markdown",
   "id": "6dc08cfe-096a-4742-b30c-17d99f7c18f5",
   "metadata": {},
   "source": [
    "5. Record of First Successful Landing Outcome in Ground Pad"
   ]
  },
  {
   "cell_type": "code",
   "execution_count": 8,
   "id": "5943d388-b50f-429e-8ccc-a00a952d5ae4",
   "metadata": {},
   "outputs": [
    {
     "name": "stdout",
     "output_type": "stream",
     "text": [
      " * sqlite:///ExerciseDB1.db\n",
      "Done.\n"
     ]
    },
    {
     "data": {
      "text/html": [
       "<table>\n",
       "    <thead>\n",
       "        <tr>\n",
       "            <th>Date</th>\n",
       "            <th>Time (UTC)</th>\n",
       "            <th>Booster_Version</th>\n",
       "            <th>Launch_Site</th>\n",
       "            <th>Payload</th>\n",
       "            <th>PAYLOAD_MASS__KG_</th>\n",
       "            <th>Orbit</th>\n",
       "            <th>Customer</th>\n",
       "            <th>Mission_Outcome</th>\n",
       "            <th>Landing_Outcome</th>\n",
       "        </tr>\n",
       "    </thead>\n",
       "    <tbody>\n",
       "        <tr>\n",
       "            <td>2015-12-22</td>\n",
       "            <td>1:29:00</td>\n",
       "            <td>F9 FT B1019</td>\n",
       "            <td>CCAFS LC-40</td>\n",
       "            <td>OG2 Mission 2  11 Orbcomm-OG2 satellites</td>\n",
       "            <td>2034</td>\n",
       "            <td>LEO</td>\n",
       "            <td>Orbcomm</td>\n",
       "            <td>Success</td>\n",
       "            <td>Success (ground pad)</td>\n",
       "        </tr>\n",
       "    </tbody>\n",
       "</table>"
      ],
      "text/plain": [
       "[('2015-12-22', '1:29:00', 'F9 FT B1019', 'CCAFS LC-40', 'OG2 Mission 2  11 Orbcomm-OG2 satellites', 2034, 'LEO', 'Orbcomm', 'Success', 'Success (ground pad)')]"
      ]
     },
     "execution_count": 8,
     "metadata": {},
     "output_type": "execute_result"
    }
   ],
   "source": [
    "%sql SELECT * FROM SPACEXTABLE WHERE LANDING_OUTCOME like \"Success (ground pad)\" order by date asc limit 1"
   ]
  },
  {
   "cell_type": "markdown",
   "id": "26e6adc8-1337-4130-b7e9-f14ceb507ae2",
   "metadata": {},
   "source": [
    "6. Names of Boosters which have success in drone ship, and Payload Mass is greater than 4000 but less than 6000"
   ]
  },
  {
   "cell_type": "code",
   "execution_count": 9,
   "id": "26d95f58-947f-4a22-9f75-679768f869d2",
   "metadata": {},
   "outputs": [
    {
     "name": "stdout",
     "output_type": "stream",
     "text": [
      " * sqlite:///ExerciseDB1.db\n",
      "Done.\n"
     ]
    },
    {
     "data": {
      "text/html": [
       "<table>\n",
       "    <thead>\n",
       "        <tr>\n",
       "            <th>Booster_Version</th>\n",
       "        </tr>\n",
       "    </thead>\n",
       "    <tbody>\n",
       "        <tr>\n",
       "            <td>F9 FT B1022</td>\n",
       "        </tr>\n",
       "        <tr>\n",
       "            <td>F9 FT B1026</td>\n",
       "        </tr>\n",
       "        <tr>\n",
       "            <td>F9 FT  B1021.2</td>\n",
       "        </tr>\n",
       "        <tr>\n",
       "            <td>F9 FT  B1031.2</td>\n",
       "        </tr>\n",
       "    </tbody>\n",
       "</table>"
      ],
      "text/plain": [
       "[('F9 FT B1022',), ('F9 FT B1026',), ('F9 FT  B1021.2',), ('F9 FT  B1031.2',)]"
      ]
     },
     "execution_count": 9,
     "metadata": {},
     "output_type": "execute_result"
    }
   ],
   "source": [
    "%sql SELECT BOOSTER_VERSION FROM SPACEXTABLE WHERE LANDING_OUTCOME LIKE \"Success (drone ship)\" AND PAYLOAD_MASS__KG_ BETWEEN 4000 AND 6000"
   ]
  },
  {
   "cell_type": "markdown",
   "id": "2f916edb-c447-41c0-b6ec-cf047032ad24",
   "metadata": {},
   "source": [
    "7. Total Number of Successful and Failure Mission Outcomes"
   ]
  },
  {
   "cell_type": "code",
   "execution_count": 10,
   "id": "54b25946-6eba-4c18-9bb8-ed8a5b3545fe",
   "metadata": {},
   "outputs": [
    {
     "name": "stdout",
     "output_type": "stream",
     "text": [
      " * sqlite:///ExerciseDB1.db\n",
      "Done.\n"
     ]
    },
    {
     "data": {
      "text/html": [
       "<table>\n",
       "    <thead>\n",
       "        <tr>\n",
       "            <th>Mission_Outcome</th>\n",
       "            <th>COUNT(MISSION_OUTCOME)</th>\n",
       "        </tr>\n",
       "    </thead>\n",
       "    <tbody>\n",
       "        <tr>\n",
       "            <td>Failure (in flight)</td>\n",
       "            <td>1</td>\n",
       "        </tr>\n",
       "        <tr>\n",
       "            <td>Success</td>\n",
       "            <td>98</td>\n",
       "        </tr>\n",
       "        <tr>\n",
       "            <td>Success </td>\n",
       "            <td>1</td>\n",
       "        </tr>\n",
       "        <tr>\n",
       "            <td>Success (payload status unclear)</td>\n",
       "            <td>1</td>\n",
       "        </tr>\n",
       "    </tbody>\n",
       "</table>"
      ],
      "text/plain": [
       "[('Failure (in flight)', 1),\n",
       " ('Success', 98),\n",
       " ('Success ', 1),\n",
       " ('Success (payload status unclear)', 1)]"
      ]
     },
     "execution_count": 10,
     "metadata": {},
     "output_type": "execute_result"
    }
   ],
   "source": [
    "%sql SELECT MISSION_OUTCOME, COUNT(MISSION_OUTCOME) FROM SPACEXTABLE GROUP BY MISSION_OUTCOME"
   ]
  },
  {
   "cell_type": "markdown",
   "id": "1c4acc77-37aa-46dc-9d91-bfdd28541248",
   "metadata": {},
   "source": [
    "8. Names of Booster Versions which have carried Maximum Mass"
   ]
  },
  {
   "cell_type": "code",
   "execution_count": 11,
   "id": "3a956b45-a6a0-42ab-b521-9f32fe5956c0",
   "metadata": {},
   "outputs": [
    {
     "name": "stdout",
     "output_type": "stream",
     "text": [
      " * sqlite:///ExerciseDB1.db\n",
      "Done.\n"
     ]
    },
    {
     "data": {
      "text/html": [
       "<table>\n",
       "    <thead>\n",
       "        <tr>\n",
       "            <th>Booster_Version</th>\n",
       "            <th>PAYLOAD_MASS__KG_</th>\n",
       "        </tr>\n",
       "    </thead>\n",
       "    <tbody>\n",
       "        <tr>\n",
       "            <td>F9 B5 B1048.4</td>\n",
       "            <td>15600</td>\n",
       "        </tr>\n",
       "        <tr>\n",
       "            <td>F9 B5 B1048.5</td>\n",
       "            <td>15600</td>\n",
       "        </tr>\n",
       "        <tr>\n",
       "            <td>F9 B5 B1049.4</td>\n",
       "            <td>15600</td>\n",
       "        </tr>\n",
       "        <tr>\n",
       "            <td>F9 B5 B1049.5</td>\n",
       "            <td>15600</td>\n",
       "        </tr>\n",
       "        <tr>\n",
       "            <td>F9 B5 B1049.7 </td>\n",
       "            <td>15600</td>\n",
       "        </tr>\n",
       "        <tr>\n",
       "            <td>F9 B5 B1051.3</td>\n",
       "            <td>15600</td>\n",
       "        </tr>\n",
       "        <tr>\n",
       "            <td>F9 B5 B1051.4</td>\n",
       "            <td>15600</td>\n",
       "        </tr>\n",
       "        <tr>\n",
       "            <td>F9 B5 B1051.6</td>\n",
       "            <td>15600</td>\n",
       "        </tr>\n",
       "        <tr>\n",
       "            <td>F9 B5 B1056.4</td>\n",
       "            <td>15600</td>\n",
       "        </tr>\n",
       "        <tr>\n",
       "            <td>F9 B5 B1058.3 </td>\n",
       "            <td>15600</td>\n",
       "        </tr>\n",
       "        <tr>\n",
       "            <td>F9 B5 B1060.2 </td>\n",
       "            <td>15600</td>\n",
       "        </tr>\n",
       "        <tr>\n",
       "            <td>F9 B5 B1060.3</td>\n",
       "            <td>15600</td>\n",
       "        </tr>\n",
       "    </tbody>\n",
       "</table>"
      ],
      "text/plain": [
       "[('F9 B5 B1048.4', 15600),\n",
       " ('F9 B5 B1048.5', 15600),\n",
       " ('F9 B5 B1049.4', 15600),\n",
       " ('F9 B5 B1049.5', 15600),\n",
       " ('F9 B5 B1049.7 ', 15600),\n",
       " ('F9 B5 B1051.3', 15600),\n",
       " ('F9 B5 B1051.4', 15600),\n",
       " ('F9 B5 B1051.6', 15600),\n",
       " ('F9 B5 B1056.4', 15600),\n",
       " ('F9 B5 B1058.3 ', 15600),\n",
       " ('F9 B5 B1060.2 ', 15600),\n",
       " ('F9 B5 B1060.3', 15600)]"
      ]
     },
     "execution_count": 11,
     "metadata": {},
     "output_type": "execute_result"
    }
   ],
   "source": [
    "%sql SELECT BOOSTER_VERSION, PAYLOAD_MASS__KG_ FROM SPACEXTABLE WHERE PAYLOAD_MASS__KG_ = (SELECT MAX(PAYLOAD_MASS__KG_) FROM SPACEXTABLE) GROUP BY BOOSTER_VERSION"
   ]
  },
  {
   "cell_type": "markdown",
   "id": "488163aa-fbfe-470f-8fd6-c01be426e3b4",
   "metadata": {},
   "source": [
    "9. Records of Rocket Launch for the Months in 2015"
   ]
  },
  {
   "cell_type": "code",
   "execution_count": 12,
   "id": "9fcdddda-8ffe-4922-bd43-6e027d70de3d",
   "metadata": {},
   "outputs": [
    {
     "name": "stdout",
     "output_type": "stream",
     "text": [
      " * sqlite:///ExerciseDB1.db\n",
      "Done.\n"
     ]
    },
    {
     "data": {
      "text/html": [
       "<table>\n",
       "    <thead>\n",
       "        <tr>\n",
       "            <th>MONTH</th>\n",
       "            <th>Landing_Outcome</th>\n",
       "            <th>Booster_Version</th>\n",
       "            <th>Launch_Site</th>\n",
       "        </tr>\n",
       "    </thead>\n",
       "    <tbody>\n",
       "        <tr>\n",
       "            <td>01</td>\n",
       "            <td>Failure (drone ship)</td>\n",
       "            <td>F9 v1.1 B1012</td>\n",
       "            <td>CCAFS LC-40</td>\n",
       "        </tr>\n",
       "        <tr>\n",
       "            <td>04</td>\n",
       "            <td>Failure (drone ship)</td>\n",
       "            <td>F9 v1.1 B1015</td>\n",
       "            <td>CCAFS LC-40</td>\n",
       "        </tr>\n",
       "    </tbody>\n",
       "</table>"
      ],
      "text/plain": [
       "[('01', 'Failure (drone ship)', 'F9 v1.1 B1012', 'CCAFS LC-40'),\n",
       " ('04', 'Failure (drone ship)', 'F9 v1.1 B1015', 'CCAFS LC-40')]"
      ]
     },
     "execution_count": 12,
     "metadata": {},
     "output_type": "execute_result"
    }
   ],
   "source": [
    "%sql SELECT substr(Date, 6,2) as MONTH, LANDING_OUTCOME, BOOSTER_VERSION, LAUNCH_SITE FROM SPACEXTABLE WHERE LANDING_OUTCOME LIKE \"Failure (drone ship)\" AND substr(DATE,0,5)= '2015'"
   ]
  },
  {
   "cell_type": "markdown",
   "id": "42fbd6b2-4191-4881-9cb0-e4c322e6a96f",
   "metadata": {},
   "source": [
    "10. Ranking of Lancing Outcomes Between 4 June 2010 until 20 March 2017"
   ]
  },
  {
   "cell_type": "code",
   "execution_count": 13,
   "id": "0acdc975-e22b-47ce-8b6e-52f3839942a5",
   "metadata": {},
   "outputs": [
    {
     "name": "stdout",
     "output_type": "stream",
     "text": [
      " * sqlite:///ExerciseDB1.db\n",
      "Done.\n"
     ]
    },
    {
     "data": {
      "text/html": [
       "<table>\n",
       "    <thead>\n",
       "        <tr>\n",
       "            <th>Landing_Outcome</th>\n",
       "            <th>count</th>\n",
       "            <th>Ranking</th>\n",
       "        </tr>\n",
       "    </thead>\n",
       "    <tbody>\n",
       "        <tr>\n",
       "            <td>No attempt</td>\n",
       "            <td>10</td>\n",
       "            <td>1</td>\n",
       "        </tr>\n",
       "        <tr>\n",
       "            <td>Success (drone ship)</td>\n",
       "            <td>5</td>\n",
       "            <td>2</td>\n",
       "        </tr>\n",
       "        <tr>\n",
       "            <td>Failure (drone ship)</td>\n",
       "            <td>5</td>\n",
       "            <td>2</td>\n",
       "        </tr>\n",
       "        <tr>\n",
       "            <td>Success (ground pad)</td>\n",
       "            <td>3</td>\n",
       "            <td>4</td>\n",
       "        </tr>\n",
       "        <tr>\n",
       "            <td>Controlled (ocean)</td>\n",
       "            <td>3</td>\n",
       "            <td>4</td>\n",
       "        </tr>\n",
       "        <tr>\n",
       "            <td>Uncontrolled (ocean)</td>\n",
       "            <td>2</td>\n",
       "            <td>6</td>\n",
       "        </tr>\n",
       "        <tr>\n",
       "            <td>Failure (parachute)</td>\n",
       "            <td>2</td>\n",
       "            <td>6</td>\n",
       "        </tr>\n",
       "        <tr>\n",
       "            <td>Precluded (drone ship)</td>\n",
       "            <td>1</td>\n",
       "            <td>8</td>\n",
       "        </tr>\n",
       "    </tbody>\n",
       "</table>"
      ],
      "text/plain": [
       "[('No attempt', 10, 1),\n",
       " ('Success (drone ship)', 5, 2),\n",
       " ('Failure (drone ship)', 5, 2),\n",
       " ('Success (ground pad)', 3, 4),\n",
       " ('Controlled (ocean)', 3, 4),\n",
       " ('Uncontrolled (ocean)', 2, 6),\n",
       " ('Failure (parachute)', 2, 6),\n",
       " ('Precluded (drone ship)', 1, 8)]"
      ]
     },
     "execution_count": 13,
     "metadata": {},
     "output_type": "execute_result"
    }
   ],
   "source": [
    "%sql SELECT LANDING_OUTCOME, COUNT(*) AS count, RANK() OVER (ORDER BY COUNT(*) DESC) AS Ranking FROM SPACEXTABLE WHERE DATE BETWEEN '2010-06-04' AND '2017-03-20' GROUP BY LANDING_OUTCOME ORDER BY count DESC;"
   ]
  },
  {
   "cell_type": "markdown",
   "id": "c9ed5dfb-6e50-4b18-8b6d-4f7fc45452da",
   "metadata": {},
   "source": [
    "### Created By : ALEXANDER RAFAEL\n",
    "### 29 March 2025"
   ]
  }
 ],
 "metadata": {
  "kernelspec": {
   "display_name": "Python 3 (ipykernel)",
   "language": "python",
   "name": "python3"
  },
  "language_info": {
   "codemirror_mode": {
    "name": "ipython",
    "version": 3
   },
   "file_extension": ".py",
   "mimetype": "text/x-python",
   "name": "python",
   "nbconvert_exporter": "python",
   "pygments_lexer": "ipython3",
   "version": "3.9.20"
  }
 },
 "nbformat": 4,
 "nbformat_minor": 5
}
