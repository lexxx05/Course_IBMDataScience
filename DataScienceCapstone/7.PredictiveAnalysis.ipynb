{
 "cells": [
  {
   "cell_type": "markdown",
   "id": "21ddf8d7-a4ac-48a4-9630-4c19b94740b8",
   "metadata": {},
   "source": [
    "# IBM Data Science Capstone Project\n",
    "\n",
    "## || Part 5 : Interactive Map with Folium"
   ]
  },
  {
   "cell_type": "code",
   "execution_count": 18,
   "id": "71c74b29-89b4-4eac-9973-706b508c1e11",
   "metadata": {},
   "outputs": [],
   "source": [
    "import pandas as pd\n",
    "import numpy as np\n",
    "import seaborn as sns\n",
    "import matplotlib.pyplot as plt\n",
    "from sklearn import preprocessing\n",
    "from sklearn.model_selection import train_test_split\n",
    "from sklearn.model_selection import GridSearchCV\n",
    "from sklearn.linear_model import LogisticRegression\n",
    "from sklearn.svm import SVC\n",
    "from sklearn.tree import DecisionTreeClassifier\n",
    "from sklearn.neighbors import KNeighborsClassifier"
   ]
  },
  {
   "cell_type": "code",
   "execution_count": 19,
   "id": "00017327-9f4d-42cb-91ca-6415e974ce46",
   "metadata": {},
   "outputs": [
    {
     "data": {
      "text/html": [
       "<div>\n",
       "<style scoped>\n",
       "    .dataframe tbody tr th:only-of-type {\n",
       "        vertical-align: middle;\n",
       "    }\n",
       "\n",
       "    .dataframe tbody tr th {\n",
       "        vertical-align: top;\n",
       "    }\n",
       "\n",
       "    .dataframe thead th {\n",
       "        text-align: right;\n",
       "    }\n",
       "</style>\n",
       "<table border=\"1\" class=\"dataframe\">\n",
       "  <thead>\n",
       "    <tr style=\"text-align: right;\">\n",
       "      <th></th>\n",
       "      <th>FlightNumber</th>\n",
       "      <th>Date</th>\n",
       "      <th>BoosterVersion</th>\n",
       "      <th>PayloadMass</th>\n",
       "      <th>Orbit</th>\n",
       "      <th>LaunchSite</th>\n",
       "      <th>Outcome</th>\n",
       "      <th>Flights</th>\n",
       "      <th>GridFins</th>\n",
       "      <th>Reused</th>\n",
       "      <th>Legs</th>\n",
       "      <th>LandingPad</th>\n",
       "      <th>Block</th>\n",
       "      <th>ReusedCount</th>\n",
       "      <th>Serial</th>\n",
       "      <th>Longitude</th>\n",
       "      <th>Latitude</th>\n",
       "      <th>Class</th>\n",
       "    </tr>\n",
       "  </thead>\n",
       "  <tbody>\n",
       "    <tr>\n",
       "      <th>0</th>\n",
       "      <td>1</td>\n",
       "      <td>2010-06-04</td>\n",
       "      <td>Falcon 9</td>\n",
       "      <td>6104.959412</td>\n",
       "      <td>LEO</td>\n",
       "      <td>CCAFS SLC 40</td>\n",
       "      <td>None None</td>\n",
       "      <td>1</td>\n",
       "      <td>False</td>\n",
       "      <td>False</td>\n",
       "      <td>False</td>\n",
       "      <td>NaN</td>\n",
       "      <td>1.0</td>\n",
       "      <td>0</td>\n",
       "      <td>B0003</td>\n",
       "      <td>-80.577366</td>\n",
       "      <td>28.561857</td>\n",
       "      <td>0</td>\n",
       "    </tr>\n",
       "    <tr>\n",
       "      <th>1</th>\n",
       "      <td>2</td>\n",
       "      <td>2012-05-22</td>\n",
       "      <td>Falcon 9</td>\n",
       "      <td>525.000000</td>\n",
       "      <td>LEO</td>\n",
       "      <td>CCAFS SLC 40</td>\n",
       "      <td>None None</td>\n",
       "      <td>1</td>\n",
       "      <td>False</td>\n",
       "      <td>False</td>\n",
       "      <td>False</td>\n",
       "      <td>NaN</td>\n",
       "      <td>1.0</td>\n",
       "      <td>0</td>\n",
       "      <td>B0005</td>\n",
       "      <td>-80.577366</td>\n",
       "      <td>28.561857</td>\n",
       "      <td>0</td>\n",
       "    </tr>\n",
       "    <tr>\n",
       "      <th>2</th>\n",
       "      <td>3</td>\n",
       "      <td>2013-03-01</td>\n",
       "      <td>Falcon 9</td>\n",
       "      <td>677.000000</td>\n",
       "      <td>ISS</td>\n",
       "      <td>CCAFS SLC 40</td>\n",
       "      <td>None None</td>\n",
       "      <td>1</td>\n",
       "      <td>False</td>\n",
       "      <td>False</td>\n",
       "      <td>False</td>\n",
       "      <td>NaN</td>\n",
       "      <td>1.0</td>\n",
       "      <td>0</td>\n",
       "      <td>B0007</td>\n",
       "      <td>-80.577366</td>\n",
       "      <td>28.561857</td>\n",
       "      <td>0</td>\n",
       "    </tr>\n",
       "    <tr>\n",
       "      <th>3</th>\n",
       "      <td>4</td>\n",
       "      <td>2013-09-29</td>\n",
       "      <td>Falcon 9</td>\n",
       "      <td>500.000000</td>\n",
       "      <td>PO</td>\n",
       "      <td>VAFB SLC 4E</td>\n",
       "      <td>False Ocean</td>\n",
       "      <td>1</td>\n",
       "      <td>False</td>\n",
       "      <td>False</td>\n",
       "      <td>False</td>\n",
       "      <td>NaN</td>\n",
       "      <td>1.0</td>\n",
       "      <td>0</td>\n",
       "      <td>B1003</td>\n",
       "      <td>-120.610829</td>\n",
       "      <td>34.632093</td>\n",
       "      <td>0</td>\n",
       "    </tr>\n",
       "    <tr>\n",
       "      <th>4</th>\n",
       "      <td>5</td>\n",
       "      <td>2013-12-03</td>\n",
       "      <td>Falcon 9</td>\n",
       "      <td>3170.000000</td>\n",
       "      <td>GTO</td>\n",
       "      <td>CCAFS SLC 40</td>\n",
       "      <td>None None</td>\n",
       "      <td>1</td>\n",
       "      <td>False</td>\n",
       "      <td>False</td>\n",
       "      <td>False</td>\n",
       "      <td>NaN</td>\n",
       "      <td>1.0</td>\n",
       "      <td>0</td>\n",
       "      <td>B1004</td>\n",
       "      <td>-80.577366</td>\n",
       "      <td>28.561857</td>\n",
       "      <td>0</td>\n",
       "    </tr>\n",
       "  </tbody>\n",
       "</table>\n",
       "</div>"
      ],
      "text/plain": [
       "   FlightNumber        Date BoosterVersion  PayloadMass Orbit    LaunchSite  \\\n",
       "0             1  2010-06-04       Falcon 9  6104.959412   LEO  CCAFS SLC 40   \n",
       "1             2  2012-05-22       Falcon 9   525.000000   LEO  CCAFS SLC 40   \n",
       "2             3  2013-03-01       Falcon 9   677.000000   ISS  CCAFS SLC 40   \n",
       "3             4  2013-09-29       Falcon 9   500.000000    PO   VAFB SLC 4E   \n",
       "4             5  2013-12-03       Falcon 9  3170.000000   GTO  CCAFS SLC 40   \n",
       "\n",
       "       Outcome  Flights  GridFins  Reused   Legs LandingPad  Block  \\\n",
       "0    None None        1     False   False  False        NaN    1.0   \n",
       "1    None None        1     False   False  False        NaN    1.0   \n",
       "2    None None        1     False   False  False        NaN    1.0   \n",
       "3  False Ocean        1     False   False  False        NaN    1.0   \n",
       "4    None None        1     False   False  False        NaN    1.0   \n",
       "\n",
       "   ReusedCount Serial   Longitude   Latitude  Class  \n",
       "0            0  B0003  -80.577366  28.561857      0  \n",
       "1            0  B0005  -80.577366  28.561857      0  \n",
       "2            0  B0007  -80.577366  28.561857      0  \n",
       "3            0  B1003 -120.610829  34.632093      0  \n",
       "4            0  B1004  -80.577366  28.561857      0  "
      ]
     },
     "execution_count": 19,
     "metadata": {},
     "output_type": "execute_result"
    }
   ],
   "source": [
    "# Using the ready dataset from the previous activities, focusing for the TARGET Variable\n",
    "df = pd.read_csv(\"https://cf-courses-data.s3.us.cloud-object-storage.appdomain.cloud/IBM-DS0321EN-SkillsNetwork/datasets/dataset_part_2.csv\")\n",
    "df.head()"
   ]
  },
  {
   "cell_type": "code",
   "execution_count": 20,
   "id": "0c83b7a4-6d26-4404-a5bf-88bf182919fe",
   "metadata": {},
   "outputs": [
    {
     "data": {
      "text/html": [
       "<div>\n",
       "<style scoped>\n",
       "    .dataframe tbody tr th:only-of-type {\n",
       "        vertical-align: middle;\n",
       "    }\n",
       "\n",
       "    .dataframe tbody tr th {\n",
       "        vertical-align: top;\n",
       "    }\n",
       "\n",
       "    .dataframe thead th {\n",
       "        text-align: right;\n",
       "    }\n",
       "</style>\n",
       "<table border=\"1\" class=\"dataframe\">\n",
       "  <thead>\n",
       "    <tr style=\"text-align: right;\">\n",
       "      <th></th>\n",
       "      <th>FlightNumber</th>\n",
       "      <th>PayloadMass</th>\n",
       "      <th>Flights</th>\n",
       "      <th>Block</th>\n",
       "      <th>ReusedCount</th>\n",
       "      <th>Orbit_ES-L1</th>\n",
       "      <th>Orbit_GEO</th>\n",
       "      <th>Orbit_GTO</th>\n",
       "      <th>Orbit_HEO</th>\n",
       "      <th>Orbit_ISS</th>\n",
       "      <th>...</th>\n",
       "      <th>Serial_B1058</th>\n",
       "      <th>Serial_B1059</th>\n",
       "      <th>Serial_B1060</th>\n",
       "      <th>Serial_B1062</th>\n",
       "      <th>GridFins_False</th>\n",
       "      <th>GridFins_True</th>\n",
       "      <th>Reused_False</th>\n",
       "      <th>Reused_True</th>\n",
       "      <th>Legs_False</th>\n",
       "      <th>Legs_True</th>\n",
       "    </tr>\n",
       "  </thead>\n",
       "  <tbody>\n",
       "    <tr>\n",
       "      <th>0</th>\n",
       "      <td>1.0</td>\n",
       "      <td>6104.959412</td>\n",
       "      <td>1.0</td>\n",
       "      <td>1.0</td>\n",
       "      <td>0.0</td>\n",
       "      <td>0.0</td>\n",
       "      <td>0.0</td>\n",
       "      <td>0.0</td>\n",
       "      <td>0.0</td>\n",
       "      <td>0.0</td>\n",
       "      <td>...</td>\n",
       "      <td>0.0</td>\n",
       "      <td>0.0</td>\n",
       "      <td>0.0</td>\n",
       "      <td>0.0</td>\n",
       "      <td>1.0</td>\n",
       "      <td>0.0</td>\n",
       "      <td>1.0</td>\n",
       "      <td>0.0</td>\n",
       "      <td>1.0</td>\n",
       "      <td>0.0</td>\n",
       "    </tr>\n",
       "    <tr>\n",
       "      <th>1</th>\n",
       "      <td>2.0</td>\n",
       "      <td>525.000000</td>\n",
       "      <td>1.0</td>\n",
       "      <td>1.0</td>\n",
       "      <td>0.0</td>\n",
       "      <td>0.0</td>\n",
       "      <td>0.0</td>\n",
       "      <td>0.0</td>\n",
       "      <td>0.0</td>\n",
       "      <td>0.0</td>\n",
       "      <td>...</td>\n",
       "      <td>0.0</td>\n",
       "      <td>0.0</td>\n",
       "      <td>0.0</td>\n",
       "      <td>0.0</td>\n",
       "      <td>1.0</td>\n",
       "      <td>0.0</td>\n",
       "      <td>1.0</td>\n",
       "      <td>0.0</td>\n",
       "      <td>1.0</td>\n",
       "      <td>0.0</td>\n",
       "    </tr>\n",
       "    <tr>\n",
       "      <th>2</th>\n",
       "      <td>3.0</td>\n",
       "      <td>677.000000</td>\n",
       "      <td>1.0</td>\n",
       "      <td>1.0</td>\n",
       "      <td>0.0</td>\n",
       "      <td>0.0</td>\n",
       "      <td>0.0</td>\n",
       "      <td>0.0</td>\n",
       "      <td>0.0</td>\n",
       "      <td>1.0</td>\n",
       "      <td>...</td>\n",
       "      <td>0.0</td>\n",
       "      <td>0.0</td>\n",
       "      <td>0.0</td>\n",
       "      <td>0.0</td>\n",
       "      <td>1.0</td>\n",
       "      <td>0.0</td>\n",
       "      <td>1.0</td>\n",
       "      <td>0.0</td>\n",
       "      <td>1.0</td>\n",
       "      <td>0.0</td>\n",
       "    </tr>\n",
       "    <tr>\n",
       "      <th>3</th>\n",
       "      <td>4.0</td>\n",
       "      <td>500.000000</td>\n",
       "      <td>1.0</td>\n",
       "      <td>1.0</td>\n",
       "      <td>0.0</td>\n",
       "      <td>0.0</td>\n",
       "      <td>0.0</td>\n",
       "      <td>0.0</td>\n",
       "      <td>0.0</td>\n",
       "      <td>0.0</td>\n",
       "      <td>...</td>\n",
       "      <td>0.0</td>\n",
       "      <td>0.0</td>\n",
       "      <td>0.0</td>\n",
       "      <td>0.0</td>\n",
       "      <td>1.0</td>\n",
       "      <td>0.0</td>\n",
       "      <td>1.0</td>\n",
       "      <td>0.0</td>\n",
       "      <td>1.0</td>\n",
       "      <td>0.0</td>\n",
       "    </tr>\n",
       "    <tr>\n",
       "      <th>4</th>\n",
       "      <td>5.0</td>\n",
       "      <td>3170.000000</td>\n",
       "      <td>1.0</td>\n",
       "      <td>1.0</td>\n",
       "      <td>0.0</td>\n",
       "      <td>0.0</td>\n",
       "      <td>0.0</td>\n",
       "      <td>1.0</td>\n",
       "      <td>0.0</td>\n",
       "      <td>0.0</td>\n",
       "      <td>...</td>\n",
       "      <td>0.0</td>\n",
       "      <td>0.0</td>\n",
       "      <td>0.0</td>\n",
       "      <td>0.0</td>\n",
       "      <td>1.0</td>\n",
       "      <td>0.0</td>\n",
       "      <td>1.0</td>\n",
       "      <td>0.0</td>\n",
       "      <td>1.0</td>\n",
       "      <td>0.0</td>\n",
       "    </tr>\n",
       "  </tbody>\n",
       "</table>\n",
       "<p>5 rows × 83 columns</p>\n",
       "</div>"
      ],
      "text/plain": [
       "   FlightNumber  PayloadMass  Flights  Block  ReusedCount  Orbit_ES-L1  \\\n",
       "0           1.0  6104.959412      1.0    1.0          0.0          0.0   \n",
       "1           2.0   525.000000      1.0    1.0          0.0          0.0   \n",
       "2           3.0   677.000000      1.0    1.0          0.0          0.0   \n",
       "3           4.0   500.000000      1.0    1.0          0.0          0.0   \n",
       "4           5.0  3170.000000      1.0    1.0          0.0          0.0   \n",
       "\n",
       "   Orbit_GEO  Orbit_GTO  Orbit_HEO  Orbit_ISS  ...  Serial_B1058  \\\n",
       "0        0.0        0.0        0.0        0.0  ...           0.0   \n",
       "1        0.0        0.0        0.0        0.0  ...           0.0   \n",
       "2        0.0        0.0        0.0        1.0  ...           0.0   \n",
       "3        0.0        0.0        0.0        0.0  ...           0.0   \n",
       "4        0.0        1.0        0.0        0.0  ...           0.0   \n",
       "\n",
       "   Serial_B1059  Serial_B1060  Serial_B1062  GridFins_False  GridFins_True  \\\n",
       "0           0.0           0.0           0.0             1.0            0.0   \n",
       "1           0.0           0.0           0.0             1.0            0.0   \n",
       "2           0.0           0.0           0.0             1.0            0.0   \n",
       "3           0.0           0.0           0.0             1.0            0.0   \n",
       "4           0.0           0.0           0.0             1.0            0.0   \n",
       "\n",
       "   Reused_False  Reused_True  Legs_False  Legs_True  \n",
       "0           1.0          0.0         1.0        0.0  \n",
       "1           1.0          0.0         1.0        0.0  \n",
       "2           1.0          0.0         1.0        0.0  \n",
       "3           1.0          0.0         1.0        0.0  \n",
       "4           1.0          0.0         1.0        0.0  \n",
       "\n",
       "[5 rows x 83 columns]"
      ]
     },
     "execution_count": 20,
     "metadata": {},
     "output_type": "execute_result"
    }
   ],
   "source": [
    "# Here is the encoded independent variable dataframe\n",
    "x_encoded = pd.read_csv('https://cf-courses-data.s3.us.cloud-object-storage.appdomain.cloud/IBM-DS0321EN-SkillsNetwork/datasets/dataset_part_3.csv')\n",
    "x_encoded.head()"
   ]
  },
  {
   "cell_type": "markdown",
   "id": "8b88e89a-c7f7-433f-bd30-a829d96e3ccf",
   "metadata": {},
   "source": [
    "1. Creating Numpy Array from Target Variable"
   ]
  },
  {
   "cell_type": "code",
   "execution_count": 21,
   "id": "c2ca3944-8347-4759-a74d-7bb9963ad633",
   "metadata": {},
   "outputs": [
    {
     "data": {
      "text/plain": [
       "array([0, 0, 0, 0, 0, 0, 1, 1, 0, 0, 0, 0, 1, 0, 0, 0, 1, 0, 0, 1, 1, 1,\n",
       "       1, 1, 0, 1, 1, 0, 1, 1, 0, 1, 1, 1, 0, 1, 1, 1, 1, 1, 1, 1, 1, 1,\n",
       "       1, 0, 0, 0, 1, 1, 0, 0, 1, 1, 1, 1, 1, 1, 1, 0, 0, 1, 1, 1, 1, 1,\n",
       "       1, 0, 1, 1, 1, 1, 0, 1, 0, 1, 0, 1, 1, 1, 1, 1, 1, 1, 1, 1, 1, 1,\n",
       "       1, 1], dtype=int64)"
      ]
     },
     "execution_count": 21,
     "metadata": {},
     "output_type": "execute_result"
    }
   ],
   "source": [
    "Y = df['Class'].to_numpy()\n",
    "Y"
   ]
  },
  {
   "cell_type": "markdown",
   "id": "fd2beb76-b2d9-4209-874d-f37d45f25fda",
   "metadata": {},
   "source": [
    "2. Standardizing X with Standard Scaler"
   ]
  },
  {
   "cell_type": "code",
   "execution_count": 22,
   "id": "f2daf0b4-431d-4a8c-9a17-aa213a9c09d5",
   "metadata": {},
   "outputs": [
    {
     "data": {
      "text/plain": [
       "array([-1.71291154e+00, -1.94814463e-16, -6.53912840e-01, -1.57589457e+00,\n",
       "       -9.73440458e-01, -1.05999788e-01, -1.05999788e-01, -6.54653671e-01,\n",
       "       -1.05999788e-01, -5.51677284e-01,  3.44342023e+00, -1.85695338e-01,\n",
       "       -3.33333333e-01, -1.05999788e-01, -2.42535625e-01, -4.29197538e-01,\n",
       "        7.97724035e-01, -5.68796459e-01, -4.10890702e-01, -4.10890702e-01,\n",
       "       -1.50755672e-01, -7.97724035e-01, -1.50755672e-01, -3.92232270e-01,\n",
       "        9.43398113e+00, -1.05999788e-01, -1.05999788e-01, -1.05999788e-01,\n",
       "       -1.05999788e-01, -1.05999788e-01, -1.05999788e-01, -1.05999788e-01,\n",
       "       -1.05999788e-01, -1.05999788e-01, -1.05999788e-01, -1.05999788e-01,\n",
       "       -1.05999788e-01, -1.05999788e-01, -1.05999788e-01, -1.05999788e-01,\n",
       "       -1.05999788e-01, -1.05999788e-01, -1.05999788e-01, -1.50755672e-01,\n",
       "       -1.05999788e-01, -1.05999788e-01, -1.05999788e-01, -1.05999788e-01,\n",
       "       -1.05999788e-01, -1.50755672e-01, -1.05999788e-01, -1.50755672e-01,\n",
       "       -1.50755672e-01, -1.05999788e-01, -1.50755672e-01, -1.50755672e-01,\n",
       "       -1.05999788e-01, -1.05999788e-01, -1.50755672e-01, -1.50755672e-01,\n",
       "       -1.50755672e-01, -1.05999788e-01, -1.05999788e-01, -1.05999788e-01,\n",
       "       -1.50755672e-01, -2.15665546e-01, -1.85695338e-01, -2.15665546e-01,\n",
       "       -2.67261242e-01, -1.05999788e-01, -2.42535625e-01, -1.05999788e-01,\n",
       "       -2.15665546e-01, -1.85695338e-01, -2.15665546e-01, -1.85695338e-01,\n",
       "       -1.05999788e-01,  1.87082869e+00, -1.87082869e+00,  8.35531692e-01,\n",
       "       -8.35531692e-01,  1.93309133e+00, -1.93309133e+00])"
      ]
     },
     "execution_count": 22,
     "metadata": {},
     "output_type": "execute_result"
    }
   ],
   "source": [
    "scaler = preprocessing.StandardScaler()\n",
    "\n",
    "x_scaled = scaler.fit_transform(x_encoded)\n",
    "x_scaled[0]"
   ]
  },
  {
   "cell_type": "markdown",
   "id": "31c90391-6688-4f22-99cf-2b82bcd8fd23",
   "metadata": {},
   "source": [
    "3. Split 80% Train and 20% Test Data"
   ]
  },
  {
   "cell_type": "code",
   "execution_count": 23,
   "id": "3228f2c1-8255-4e84-b8e6-3a9db546e64b",
   "metadata": {},
   "outputs": [],
   "source": [
    "x_train, x_test, y_train, y_test = train_test_split(x_scaled, Y, test_size = 0.2, random_state = 42)"
   ]
  },
  {
   "cell_type": "code",
   "execution_count": 24,
   "id": "793edfa6-55da-4262-8df5-e439f092b55b",
   "metadata": {},
   "outputs": [
    {
     "data": {
      "text/plain": [
       "(18,)"
      ]
     },
     "execution_count": 24,
     "metadata": {},
     "output_type": "execute_result"
    }
   ],
   "source": [
    "y_test.shape"
   ]
  },
  {
   "cell_type": "markdown",
   "id": "35c1632b-6f38-4580-a4fc-59d4f195f4d1",
   "metadata": {},
   "source": [
    "4. LOGISTIC REGRESSION"
   ]
  },
  {
   "cell_type": "code",
   "execution_count": 25,
   "id": "049fa690-8c13-4e4c-b775-4db523160f70",
   "metadata": {},
   "outputs": [],
   "source": [
    "def plot_confusion_matrix(y,y_predict):\n",
    "    \"this function plots the confusion matrix\"\n",
    "    from sklearn.metrics import confusion_matrix\n",
    "\n",
    "    cm = confusion_matrix(y, y_predict)\n",
    "    ax= plt.subplot()\n",
    "    sns.heatmap(cm, annot=True, ax = ax); #annot=True to annotate cells\n",
    "    ax.set_xlabel('Predicted labels')\n",
    "    ax.set_ylabel('True labels')\n",
    "    ax.set_title('Confusion Matrix');\n",
    "    ax.xaxis.set_ticklabels(['did not land', 'land']); ax.yaxis.set_ticklabels(['did not land', 'landed'])\n",
    "    plt.show()"
   ]
  },
  {
   "cell_type": "code",
   "execution_count": 26,
   "id": "a8f90e1a-3154-4d0c-b18a-886da3781195",
   "metadata": {},
   "outputs": [
    {
     "name": "stdout",
     "output_type": "stream",
     "text": [
      "Best Parameters :  {'C': 0.1, 'penalty': 'l2', 'solver': 'lbfgs'}\n",
      "Best Accuracy Score on TRAINING Data:  0.8035714285714285\n"
     ]
    }
   ],
   "source": [
    "lr = LogisticRegression(random_state = 42)\n",
    "\n",
    "parameters = {\n",
    "    'C' : [0.01, 0.1, 1],\n",
    "    'penalty' : ['l2'],\n",
    "    'solver' : ['lbfgs']\n",
    "}\n",
    "\n",
    "logreg_cv = GridSearchCV(lr, param_grid = parameters, cv = 10)\n",
    "logreg_cv.fit(x_train, y_train)\n",
    "\n",
    "# Find the best parameters with it scores for the TRAIN DATA\n",
    "print (\"Best Parameters : \", logreg_cv.best_params_)\n",
    "print (\"Best Accuracy Score on TRAINING Data: \", logreg_cv.best_score_)"
   ]
  },
  {
   "cell_type": "code",
   "execution_count": 27,
   "id": "3af81af3-8c50-4b90-9229-f96103197b0b",
   "metadata": {},
   "outputs": [
    {
     "name": "stdout",
     "output_type": "stream",
     "text": [
      "Best Accuracy Score on TESTING Data:  1.0\n"
     ]
    },
    {
     "data": {
      "image/png": "[encoded data removed]",
      "text/plain": [
       "<Figure size 640x480 with 2 Axes>"
      ]
     },
     "metadata": {},
     "output_type": "display_data"
    }
   ],
   "source": [
    "# Evaluate the model using TEST DATA\n",
    "logreg = LogisticRegression(random_state = 42, **logreg_cv.best_params_)\n",
    "logreg.fit(x_test, y_test)\n",
    "\n",
    "bestAccuracyLog = logreg.score(x_test, y_test)\n",
    "print (\"Best Accuracy Score on TESTING Data: \", bestAccuracyLog)\n",
    "yhat = logreg.predict(x_test)\n",
    "plot_confusion_matrix(y_test, yhat)\n",
    "plt.show()"
   ]
  },
  {
   "cell_type": "markdown",
   "id": "8daf217b-ba65-4554-99c8-4eea6424806b",
   "metadata": {},
   "source": [
    "5. SUPPORT VECTOR MACHINE"
   ]
  },
  {
   "cell_type": "code",
   "execution_count": 28,
   "id": "bcf1b66d-db8d-4401-9be7-b0c8d2b68b55",
   "metadata": {},
   "outputs": [
    {
     "name": "stdout",
     "output_type": "stream",
     "text": [
      "Best Parameters :  {'C': 1.0, 'gamma': 0.03162277660168379, 'kernel': 'sigmoid'}\n",
      "Best Accuracy Score on TRAINING Data:  0.832142857142857\n"
     ]
    }
   ],
   "source": [
    "svm = SVC(random_state = 42)\n",
    "\n",
    "parameters = {'kernel':('linear', 'rbf','poly','rbf', 'sigmoid'),\n",
    "              'C': np.logspace(-3, 3, 5),\n",
    "              'gamma':np.logspace(-3, 3, 5)}\n",
    "\n",
    "svm_cv = GridSearchCV(svm, parameters, cv = 10)\n",
    "svm_cv.fit(x_train, y_train)\n",
    "\n",
    "# Find the best parameters with it scores for the TRAIN DATA\n",
    "print (\"Best Parameters : \", svm_cv.best_params_)\n",
    "print (\"Best Accuracy Score on TRAINING Data: \", svm_cv.best_score_)"
   ]
  },
  {
   "cell_type": "code",
   "execution_count": 29,
   "id": "b77f55f0-badb-4b90-92cc-9b0af3f2bbe3",
   "metadata": {},
   "outputs": [
    {
     "name": "stdout",
     "output_type": "stream",
     "text": [
      "Best Accuracy Score on TESTING Data:  1.0\n"
     ]
    },
    {
     "data": {
      "image/png": "[encoded data removed]",
      "text/plain": [
       "<Figure size 640x480 with 2 Axes>"
      ]
     },
     "metadata": {},
     "output_type": "display_data"
    }
   ],
   "source": [
    "svm = SVC(random_state = 42, **svm_cv.best_params_)\n",
    "svm.fit(x_test, y_test)\n",
    "\n",
    "bestAccuracySVM = svm.score(x_test, y_test)\n",
    "print (\"Best Accuracy Score on TESTING Data: \", bestAccuracySVM)\n",
    "yhat = svm.predict(x_test)\n",
    "plot_confusion_matrix(y_test, yhat)\n",
    "plt.show()"
   ]
  },
  {
   "cell_type": "markdown",
   "id": "7c84fa61-a7e2-426c-9667-ea6d9e995baa",
   "metadata": {},
   "source": [
    "6. DECISION TREE"
   ]
  },
  {
   "cell_type": "code",
   "execution_count": 30,
   "id": "2a93ea88-58f2-4fef-a4b5-f8fd3909bed5",
   "metadata": {},
   "outputs": [
    {
     "name": "stdout",
     "output_type": "stream",
     "text": [
      "Best Parameters :  {'criterion': 'gini', 'max_depth': 4, 'max_features': 'sqrt', 'min_samples_leaf': 1, 'min_samples_split': 2, 'splitter': 'best'}\n",
      "Best Accuracy Score on TRAINING Data:  0.875\n"
     ]
    },
    {
     "name": "stderr",
     "output_type": "stream",
     "text": [
      "C:\\Users\\Alexander\\anaconda3\\envs\\scala\\lib\\site-packages\\sklearn\\model_selection\\_validation.py:542: FitFailedWarning: \n",
      "3240 fits failed out of a total of 6480.\n",
      "The score on these train-test partitions for these parameters will be set to nan.\n",
      "If these failures are not expected, you can try to debug them by setting error_score='raise'.\n",
      "\n",
      "Below are more details about the failures:\n",
      "--------------------------------------------------------------------------------\n",
      "3240 fits failed with the following error:\n",
      "Traceback (most recent call last):\n",
      "  File \"C:\\Users\\Alexander\\anaconda3\\envs\\scala\\lib\\site-packages\\sklearn\\model_selection\\_validation.py\", line 890, in _fit_and_score\n",
      "    estimator.fit(X_train, y_train, **fit_params)\n",
      "  File \"C:\\Users\\Alexander\\anaconda3\\envs\\scala\\lib\\site-packages\\sklearn\\base.py\", line 1344, in wrapper\n",
      "    estimator._validate_params()\n",
      "  File \"C:\\Users\\Alexander\\anaconda3\\envs\\scala\\lib\\site-packages\\sklearn\\base.py\", line 666, in _validate_params\n",
      "    validate_parameter_constraints(\n",
      "  File \"C:\\Users\\Alexander\\anaconda3\\envs\\scala\\lib\\site-packages\\sklearn\\utils\\_param_validation.py\", line 95, in validate_parameter_constraints\n",
      "    raise InvalidParameterError(\n",
      "sklearn.utils._param_validation.InvalidParameterError: The 'max_features' parameter of DecisionTreeClassifier must be an int in the range [1, inf), a float in the range (0.0, 1.0], a str among {'sqrt', 'log2'} or None. Got 'auto' instead.\n",
      "\n",
      "  warnings.warn(some_fits_failed_message, FitFailedWarning)\n",
      "C:\\Users\\Alexander\\anaconda3\\envs\\scala\\lib\\site-packages\\sklearn\\model_selection\\_search.py:1051: UserWarning: One or more of the test scores are non-finite: [       nan        nan        nan        nan        nan        nan\n",
      "        nan        nan        nan        nan        nan        nan\n",
      "        nan        nan        nan        nan        nan        nan\n",
      " 0.80357143 0.83214286 0.80357143 0.83214286 0.80357143 0.83214286\n",
      " 0.80357143 0.83214286 0.80357143 0.83214286 0.80357143 0.83214286\n",
      " 0.83214286 0.83214286 0.83214286 0.83214286 0.83214286 0.83214286\n",
      "        nan        nan        nan        nan        nan        nan\n",
      "        nan        nan        nan        nan        nan        nan\n",
      "        nan        nan        nan        nan        nan        nan\n",
      " 0.875      0.84642857 0.86071429 0.84642857 0.84642857 0.83392857\n",
      " 0.81607143 0.80535714 0.81607143 0.84464286 0.84464286 0.77678571\n",
      " 0.85892857 0.84642857 0.85892857 0.84642857 0.87321429 0.84642857\n",
      "        nan        nan        nan        nan        nan        nan\n",
      "        nan        nan        nan        nan        nan        nan\n",
      "        nan        nan        nan        nan        nan        nan\n",
      " 0.85892857 0.83214286 0.84464286 0.775      0.81785714 0.80535714\n",
      " 0.78928571 0.80535714 0.81785714 0.83214286 0.775      0.76428571\n",
      " 0.83035714 0.84642857 0.83035714 0.84642857 0.87321429 0.84642857\n",
      "        nan        nan        nan        nan        nan        nan\n",
      "        nan        nan        nan        nan        nan        nan\n",
      "        nan        nan        nan        nan        nan        nan\n",
      " 0.83214286 0.81785714 0.81785714 0.84642857 0.81785714 0.80535714\n",
      " 0.80357143 0.80535714 0.78928571 0.81964286 0.775      0.76428571\n",
      " 0.83035714 0.84642857 0.83035714 0.84642857 0.87321429 0.84642857\n",
      "        nan        nan        nan        nan        nan        nan\n",
      "        nan        nan        nan        nan        nan        nan\n",
      "        nan        nan        nan        nan        nan        nan\n",
      " 0.83214286 0.81607143 0.83214286 0.81785714 0.81785714 0.77678571\n",
      " 0.80357143 0.69464286 0.80357143 0.81964286 0.775      0.76428571\n",
      " 0.83035714 0.84642857 0.83035714 0.84642857 0.87321429 0.84642857\n",
      "        nan        nan        nan        nan        nan        nan\n",
      "        nan        nan        nan        nan        nan        nan\n",
      "        nan        nan        nan        nan        nan        nan\n",
      " 0.83214286 0.81785714 0.81785714 0.80535714 0.81785714 0.77678571\n",
      " 0.80357143 0.69464286 0.80357143 0.81964286 0.775      0.76428571\n",
      " 0.83035714 0.84642857 0.83035714 0.84642857 0.87321429 0.84642857\n",
      "        nan        nan        nan        nan        nan        nan\n",
      "        nan        nan        nan        nan        nan        nan\n",
      "        nan        nan        nan        nan        nan        nan\n",
      " 0.84642857 0.74821429 0.81785714 0.77857143 0.81785714 0.77678571\n",
      " 0.80357143 0.69464286 0.80357143 0.81964286 0.775      0.76428571\n",
      " 0.83035714 0.84642857 0.83035714 0.84642857 0.87321429 0.84642857\n",
      "        nan        nan        nan        nan        nan        nan\n",
      "        nan        nan        nan        nan        nan        nan\n",
      "        nan        nan        nan        nan        nan        nan\n",
      " 0.84642857 0.775      0.81785714 0.77857143 0.81785714 0.77678571\n",
      " 0.80357143 0.69464286 0.80357143 0.81964286 0.775      0.76428571\n",
      " 0.83035714 0.84642857 0.83035714 0.84642857 0.87321429 0.84642857\n",
      "        nan        nan        nan        nan        nan        nan\n",
      "        nan        nan        nan        nan        nan        nan\n",
      "        nan        nan        nan        nan        nan        nan\n",
      " 0.84642857 0.7625     0.81785714 0.77857143 0.81785714 0.77678571\n",
      " 0.80357143 0.69464286 0.80357143 0.81964286 0.775      0.76428571\n",
      " 0.83035714 0.84642857 0.83035714 0.84642857 0.87321429 0.84642857\n",
      "        nan        nan        nan        nan        nan        nan\n",
      "        nan        nan        nan        nan        nan        nan\n",
      "        nan        nan        nan        nan        nan        nan\n",
      " 0.80357143 0.83214286 0.80357143 0.83214286 0.80357143 0.83214286\n",
      " 0.80357143 0.83214286 0.80357143 0.83214286 0.80357143 0.83214286\n",
      " 0.83214286 0.83214286 0.83214286 0.83214286 0.83214286 0.83214286\n",
      "        nan        nan        nan        nan        nan        nan\n",
      "        nan        nan        nan        nan        nan        nan\n",
      "        nan        nan        nan        nan        nan        nan\n",
      " 0.86071429 0.84642857 0.84642857 0.84642857 0.84642857 0.83392857\n",
      " 0.81607143 0.81785714 0.81607143 0.84464286 0.84464286 0.77678571\n",
      " 0.85892857 0.84642857 0.85892857 0.84642857 0.87321429 0.84642857\n",
      "        nan        nan        nan        nan        nan        nan\n",
      "        nan        nan        nan        nan        nan        nan\n",
      "        nan        nan        nan        nan        nan        nan\n",
      " 0.84464286 0.84642857 0.80178571 0.84642857 0.81785714 0.80535714\n",
      " 0.78928571 0.80357143 0.81785714 0.81785714 0.81785714 0.76428571\n",
      " 0.83035714 0.84642857 0.83035714 0.84642857 0.87321429 0.84642857\n",
      "        nan        nan        nan        nan        nan        nan\n",
      "        nan        nan        nan        nan        nan        nan\n",
      "        nan        nan        nan        nan        nan        nan\n",
      " 0.83035714 0.81785714 0.80357143 0.84642857 0.83214286 0.79107143\n",
      " 0.80357143 0.80535714 0.80357143 0.81964286 0.80357143 0.76428571\n",
      " 0.83035714 0.84642857 0.83035714 0.84642857 0.87321429 0.84642857\n",
      "        nan        nan        nan        nan        nan        nan\n",
      "        nan        nan        nan        nan        nan        nan\n",
      "        nan        nan        nan        nan        nan        nan\n",
      " 0.79107143 0.83035714 0.77678571 0.83214286 0.80357143 0.79107143\n",
      " 0.80357143 0.73571429 0.80357143 0.79107143 0.80357143 0.76428571\n",
      " 0.83035714 0.84642857 0.83035714 0.84642857 0.87321429 0.84642857\n",
      "        nan        nan        nan        nan        nan        nan\n",
      "        nan        nan        nan        nan        nan        nan\n",
      "        nan        nan        nan        nan        nan        nan\n",
      " 0.80535714 0.80714286 0.71964286 0.82142857 0.80357143 0.79107143\n",
      " 0.80357143 0.73571429 0.80357143 0.79107143 0.80357143 0.76428571\n",
      " 0.83035714 0.84642857 0.83035714 0.84642857 0.87321429 0.84642857\n",
      "        nan        nan        nan        nan        nan        nan\n",
      "        nan        nan        nan        nan        nan        nan\n",
      "        nan        nan        nan        nan        nan        nan\n",
      " 0.79107143 0.77321429 0.73392857 0.81964286 0.80357143 0.79107143\n",
      " 0.80357143 0.73571429 0.80357143 0.77678571 0.80357143 0.76428571\n",
      " 0.83035714 0.84642857 0.83035714 0.84642857 0.87321429 0.84642857\n",
      "        nan        nan        nan        nan        nan        nan\n",
      "        nan        nan        nan        nan        nan        nan\n",
      "        nan        nan        nan        nan        nan        nan\n",
      " 0.80535714 0.77321429 0.73392857 0.81964286 0.80357143 0.79107143\n",
      " 0.80357143 0.73571429 0.80357143 0.77678571 0.80357143 0.76428571\n",
      " 0.83035714 0.84642857 0.83035714 0.84642857 0.87321429 0.84642857\n",
      "        nan        nan        nan        nan        nan        nan\n",
      "        nan        nan        nan        nan        nan        nan\n",
      "        nan        nan        nan        nan        nan        nan\n",
      " 0.80535714 0.7875     0.73392857 0.81964286 0.80357143 0.79107143\n",
      " 0.80357143 0.73571429 0.80357143 0.77678571 0.80357143 0.76428571\n",
      " 0.83035714 0.84642857 0.83035714 0.84642857 0.87321429 0.84642857]\n",
      "  warnings.warn(\n"
     ]
    }
   ],
   "source": [
    "tree = DecisionTreeClassifier(random_state=42)\n",
    "\n",
    "parameters = {'criterion': ['gini', 'entropy'],\n",
    "     'splitter': ['best', 'random'],\n",
    "     'max_depth': [2*n for n in range(1,10)],\n",
    "     'max_features': ['auto', 'sqrt'],\n",
    "     'min_samples_leaf': [1, 2, 4],\n",
    "     'min_samples_split': [2, 5, 10]}\n",
    "\n",
    "tree_cv = GridSearchCV(tree, parameters, cv = 10)\n",
    "\n",
    "tree_cv.fit(x_train, y_train)\n",
    "\n",
    "# Find the best parameters with it scores for the TRAIN DATA\n",
    "print (\"Best Parameters : \", tree_cv.best_params_)\n",
    "print (\"Best Accuracy Score on TRAINING Data: \", tree_cv.best_score_)"
   ]
  },
  {
   "cell_type": "code",
   "execution_count": 31,
   "id": "d33e0b8f-d13c-4fe8-89ba-7ff0dc7c816b",
   "metadata": {},
   "outputs": [
    {
     "name": "stdout",
     "output_type": "stream",
     "text": [
      "Best Accuracy Score on TESTING Data:  1.0\n"
     ]
    },
    {
     "data": {
      "image/png": "[encoded data removed]",
      "text/plain": [
       "<Figure size 640x480 with 2 Axes>"
      ]
     },
     "metadata": {},
     "output_type": "display_data"
    }
   ],
   "source": [
    "tree = DecisionTreeClassifier(random_state=42, **tree_cv.best_params_)\n",
    "\n",
    "tree.fit(x_test, y_test)\n",
    "\n",
    "bestAccuracyTree = tree.score(x_test, y_test)\n",
    "print (\"Best Accuracy Score on TESTING Data: \", bestAccuracyTree)\n",
    "yhat = tree.predict(x_test)\n",
    "plot_confusion_matrix(y_test, yhat)"
   ]
  },
  {
   "cell_type": "markdown",
   "id": "6303419c-be0f-4cf3-85e9-327628bf0d50",
   "metadata": {},
   "source": [
    "7. K NEAREST NEIGHBOURS"
   ]
  },
  {
   "cell_type": "code",
   "execution_count": 32,
   "id": "45d4d242-f8cd-4fe4-a0de-f2c7f3c9b7f3",
   "metadata": {},
   "outputs": [
    {
     "name": "stdout",
     "output_type": "stream",
     "text": [
      "Best Parameters :  {'algorithm': 'auto', 'n_neighbors': 6, 'p': 1}\n",
      "Best Accuracy Score on TRAINING Data:  0.8446428571428569\n"
     ]
    }
   ],
   "source": [
    "KNN = KNeighborsClassifier()\n",
    "\n",
    "parameters = {'n_neighbors': [1, 2, 3, 4, 5, 6, 7, 8, 9, 10],\n",
    "              'algorithm': ['auto', 'ball_tree', 'kd_tree', 'brute'],\n",
    "              'p': [1,2]}\n",
    "\n",
    "knn_cv = GridSearchCV(KNN, param_grid=parameters, cv = 10)\n",
    "\n",
    "knn_cv.fit(x_train, y_train)\n",
    "\n",
    "print (\"Best Parameters : \", knn_cv.best_params_)\n",
    "print (\"Best Accuracy Score on TRAINING Data: \", knn_cv.best_score_)"
   ]
  },
  {
   "cell_type": "code",
   "execution_count": 33,
   "id": "4450fffc-bd28-484b-87a0-d58c907b6904",
   "metadata": {},
   "outputs": [
    {
     "name": "stdout",
     "output_type": "stream",
     "text": [
      "Best Accuracy Score on TESTING Data:  0.7777777777777778\n"
     ]
    },
    {
     "data": {
      "image/png": "[encoded data removed]",
      "text/plain": [
       "<Figure size 640x480 with 2 Axes>"
      ]
     },
     "metadata": {},
     "output_type": "display_data"
    }
   ],
   "source": [
    "KNN = KNeighborsClassifier(algorithm = 'auto', n_neighbors = 10, p = 1)\n",
    "\n",
    "KNN.fit(x_test, y_test)\n",
    "\n",
    "bestAccuracyKNN = KNN.score(x_test, y_test)\n",
    "print (\"Best Accuracy Score on TESTING Data: \", bestAccuracyKNN)\n",
    "yhat = KNN.predict(x_test)\n",
    "plot_confusion_matrix(y_test, yhat)"
   ]
  },
  {
   "cell_type": "markdown",
   "id": "28b5c208-cd76-4aef-834e-2249babea50b",
   "metadata": {},
   "source": [
    "-- VISUALIZATION FOR EACH MODEL'S ACCURACY"
   ]
  },
  {
   "cell_type": "code",
   "execution_count": 34,
   "id": "da3e4133-ff00-4efb-abec-dc25758fc0dc",
   "metadata": {},
   "outputs": [
    {
     "data": {
      "image/png": "[encoded data removed]",
      "text/plain": [
       "<Figure size 1000x800 with 1 Axes>"
      ]
     },
     "metadata": {},
     "output_type": "display_data"
    }
   ],
   "source": [
    "model = ['Logistic Regression', 'Support Vector Machine', 'Decision Tree', 'K Nearest Neighbours']\n",
    "accuracy = [bestAccuracyLog, bestAccuracySVM, bestAccuracyTree, bestAccuracyKNN]\n",
    "\n",
    "dfviz = pd.DataFrame({'Model':model, 'Accuracy':accuracy})\n",
    "dfviz = dfviz.sort_values(by='Accuracy', ascending=False)\n",
    "\n",
    "colors = ['red' if val == dfviz['Accuracy'].max() else 'gray' for val in dfviz['Accuracy']]\n",
    "\n",
    "plt.figure(figsize = (10,8))\n",
    "plt.bar(dfviz['Model'], dfviz['Accuracy'], color = colors)\n",
    "for i, val in enumerate(dfviz['Accuracy']):\n",
    "  plt.text(i, val + 0.008, str(round(val,5)), ha = 'center', size = 11)\n",
    "plt.xlabel(\"Model Name\")\n",
    "plt.ylabel(\"Accuracy Score\")\n",
    "plt.show()"
   ]
  },
  {
   "cell_type": "code",
   "execution_count": null,
   "id": "951d7d18-6d5a-4a4b-ab3d-f9405f8d39a3",
   "metadata": {},
   "outputs": [],
   "source": []
  }
 ],
 "metadata": {
  "kernelspec": {
   "display_name": "Python 3 (ipykernel)",
   "language": "python",
   "name": "python3"
  },
  "language_info": {
   "codemirror_mode": {
    "name": "ipython",
    "version": 3
   },
   "file_extension": ".py",
   "mimetype": "text/x-python",
   "name": "python",
   "nbconvert_exporter": "python",
   "pygments_lexer": "ipython3",
   "version": "3.9.20"
  }
 },
 "nbformat": 4,
 "nbformat_minor": 5
}
