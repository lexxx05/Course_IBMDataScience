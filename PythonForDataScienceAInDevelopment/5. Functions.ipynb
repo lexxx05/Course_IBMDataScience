{
 "cells": [
  {
   "cell_type": "markdown",
   "id": "43cec4a2",
   "metadata": {},
   "source": [
    "A function is a reusable block of code, which performs operations that specified in the function.\n",
    "It allow the programmer's to break down tasks and reuse the code in different programs.\n",
    "\n",
    "There are some benefits on using the function :\n",
    "* Modularity, break down complex into manageable components\n",
    "* Reusability, can be used multiple times\n",
    "* Readability, enhance code understanding with meaningful names\n",
    "* Debugging, eases troubleshooting n issue fixing\n",
    "* Abstraction, simplify complex processes \n",
    "* Collaboration, can work in a team on different functions concurrently\n",
    "* Maintenbance, changes a function automatically apply wherever its used"
   ]
  },
  {
   "cell_type": "markdown",
   "id": "aa3c74dc",
   "metadata": {},
   "source": [
    "**User Defined Function**"
   ]
  },
  {
   "cell_type": "code",
   "execution_count": 8,
   "id": "672d4660",
   "metadata": {},
   "outputs": [
    {
     "name": "stdout",
     "output_type": "stream",
     "text": [
      "24\n",
      "228.47999999999996\n",
      "hellohello\n"
     ]
    }
   ],
   "source": [
    "#Function with Parameters.\n",
    "def Mult(a,b):\n",
    "    c = a*b\n",
    "    return c\n",
    "#a and b are formal parameter, and c is a local variable\n",
    "\n",
    "\n",
    "#integer processing\n",
    "print (Mult(2,12))\n",
    "print (Mult(10.2,22.4))\n",
    "\n",
    "#string processing\n",
    "print (Mult(2,'hello'))"
   ]
  },
  {
   "cell_type": "code",
   "execution_count": 15,
   "id": "6e3848e9",
   "metadata": {},
   "outputs": [
    {
     "name": "stdout",
     "output_type": "stream",
     "text": [
      "Number of arguments = 3\n",
      "Horsefeather\n",
      "Adonis\n",
      "Bone\n",
      "Number of keys : 3\n",
      "Country : canda\n",
      "Province : Ontario\n",
      "City : Toronto\n"
     ]
    }
   ],
   "source": [
    "#Unknown number of parameters\n",
    "#One star indicates that the parameter is collected in a tuple\n",
    "def printAll (*args):\n",
    "    print (\"Number of arguments =\",len(args))\n",
    "    for state in args:\n",
    "        print(state)\n",
    "        \n",
    "printAll('Horsefeather','Adonis','Bone')  \n",
    "\n",
    "#two star indicates that the parameter is collected in a dictionary\n",
    "def printDict (**args):\n",
    "    print (\"Number of keys :\",len(args))\n",
    "    for key in args:\n",
    "        print (key, \":\", args[key])\n",
    "        \n",
    "printDict(Country='canda',Province='Ontario',City='Toronto')"
   ]
  },
  {
   "cell_type": "markdown",
   "id": "c312827a",
   "metadata": {},
   "source": [
    "**Simple Exercise.**\n",
    "\n",
    "1. A program to find a total number count of word in the string"
   ]
  },
  {
   "cell_type": "code",
   "execution_count": 16,
   "id": "54d99184",
   "metadata": {},
   "outputs": [
    {
     "name": "stdout",
     "output_type": "stream",
     "text": [
      "Mary : 6\n",
      "had : 2\n",
      "a : 2\n",
      "little : 3\n",
      "lamb : 3\n",
      "Little : 1\n",
      "lamb, : 1\n",
      "lamb.Its : 1\n",
      "fleece : 1\n",
      "was : 2\n",
      "white : 1\n",
      "as : 1\n",
      "snow : 1\n",
      "And : 1\n",
      "everywhere : 1\n",
      "that : 2\n",
      "went : 3\n",
      "went, : 1\n",
      "Everywhere : 1\n",
      "The : 1\n",
      "sure : 1\n",
      "to : 1\n",
      "go : 1\n"
     ]
    }
   ],
   "source": [
    "def counter(string):\n",
    "    word = []\n",
    "    word = string.split()\n",
    "    \n",
    "    dict = {}\n",
    "    for key in word:\n",
    "        dict[key] = word.count(key)\n",
    "        \n",
    "    for val in dict:\n",
    "        print (val, \":\", dict[val])\n",
    "\n",
    "counter(\"Mary had a little lamb Little lamb, little lamb Mary had a little lamb.Its fleece was white as snow And everywhere that Mary went Mary went, Mary went Everywhere that Mary went The lamb was sure to go\")"
   ]
  },
  {
   "cell_type": "markdown",
   "id": "95351df4",
   "metadata": {},
   "source": [
    "**Simple Exercise.**\n",
    "\n",
    "2. A program to find a total number count of a word in the string"
   ]
  },
  {
   "cell_type": "code",
   "execution_count": 18,
   "id": "63812c11",
   "metadata": {},
   "outputs": [
    {
     "name": "stdout",
     "output_type": "stream",
     "text": [
      "little : 3\n"
     ]
    }
   ],
   "source": [
    "def counter (string):\n",
    "    word = []\n",
    "    word = string.split()\n",
    "    \n",
    "    dicts = {}\n",
    "    for unique in word:\n",
    "        if unique == 'little':\n",
    "            #unique is each elements on the 'word' list\n",
    "            #then we will input the value of key's dictionary with the count of unique word in the word list\n",
    "            #dicts[unique] is to asses the value of dictionary's key\n",
    "            #word.count(unique) means that we will count, the occurence number of 'unique' in the word list\n",
    "            dicts[unique] = word.count(unique)\n",
    "    \n",
    "    for x in dicts:\n",
    "        print(x, \":\", dicts[x])\n",
    "        \n",
    "counter(\"Mary had a little lamb Little lamb, little lamb Mary had a little lamb.Its fleece was white as snow And everywhere that Mary went Mary went, Mary went Everywhere that Mary went The lamb was sure to go\")"
   ]
  },
  {
   "cell_type": "code",
   "execution_count": null,
   "id": "55b93f49",
   "metadata": {},
   "outputs": [],
   "source": []
  }
 ],
 "metadata": {
  "kernelspec": {
   "display_name": "Python 3 (ipykernel)",
   "language": "python",
   "name": "python3"
  },
  "language_info": {
   "codemirror_mode": {
    "name": "ipython",
    "version": 3
   },
   "file_extension": ".py",
   "mimetype": "text/x-python",
   "name": "python",
   "nbconvert_exporter": "python",
   "pygments_lexer": "ipython3",
   "version": "3.11.4"
  }
 },
 "nbformat": 4,
 "nbformat_minor": 5
}
