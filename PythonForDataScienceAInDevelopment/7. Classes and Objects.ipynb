{
 "cells": [
  {
   "cell_type": "markdown",
   "id": "868e80d0",
   "metadata": {},
   "source": [
    "**Classess**\n",
    "\n",
    "A class is a blueprint for creating object. It is the group of many objects inside it. It will define the structure, and behavior that its objects will have.\n",
    "\n",
    "**Objects**\n",
    "An object is a fundamental unit that represents a real-world entity or concept. It can be tangible (like a car) or abstract (like a student's grade). It has two main characteristics:\n",
    "* State, which is the data or attributes to describe the object\n",
    "* Behavior, which is the methods or actions that the object can perform. The methods are functions that belong to objects, and can change the object's state or perform specific operations"
   ]
  },
  {
   "cell_type": "code",
   "execution_count": 2,
   "id": "20f09b50",
   "metadata": {},
   "outputs": [],
   "source": [
    "#import the library to draw the objects\n",
    "\n",
    "import matplotlib as plt\n",
    "%matplotlib inline"
   ]
  },
  {
   "cell_type": "code",
   "execution_count": 3,
   "id": "3dd16b0f",
   "metadata": {},
   "outputs": [],
   "source": [
    "#create a class of circle\n",
    "\n",
    "class Circle(object):\n",
    "#object is a class parent\n",
    "\n",
    "    #set all the object on the class' status to yes\n",
    "    status = 'yes'\n",
    "\n",
    "    #the constructor, init function to initialize\n",
    "    #the class' data attributes.\n",
    "    def __init__ (self, radius = 3, color = 'blue'):\n",
    "        self.radius = radius\n",
    "        self.color = color\n",
    "    \n",
    "    #method\n",
    "    def add_radius(self, r):\n",
    "        self.radius = self.radius + r\n",
    "        return(self.radius)\n"
   ]
  },
  {
   "cell_type": "code",
   "execution_count": 5,
   "id": "3289f03d",
   "metadata": {},
   "outputs": [
    {
     "data": {
      "text/plain": [
       "15"
      ]
     },
     "execution_count": 5,
     "metadata": {},
     "output_type": "execute_result"
    }
   ],
   "source": [
    "#create a new object from Circle class\n",
    "redCircle = Circle(10,'red')\n",
    "\n",
    "#applying the method to increase it's radius\n",
    "redCircle.add_radius(5)\n",
    "\n",
    "#get the data attributes of the objects\n",
    "redCircle.radius"
   ]
  },
  {
   "cell_type": "code",
   "execution_count": 6,
   "id": "d77fbe7e",
   "metadata": {},
   "outputs": [
    {
     "data": {
      "text/plain": [
       "['__class__',\n",
       " '__delattr__',\n",
       " '__dict__',\n",
       " '__dir__',\n",
       " '__doc__',\n",
       " '__eq__',\n",
       " '__format__',\n",
       " '__ge__',\n",
       " '__getattribute__',\n",
       " '__getstate__',\n",
       " '__gt__',\n",
       " '__hash__',\n",
       " '__init__',\n",
       " '__init_subclass__',\n",
       " '__le__',\n",
       " '__lt__',\n",
       " '__module__',\n",
       " '__ne__',\n",
       " '__new__',\n",
       " '__reduce__',\n",
       " '__reduce_ex__',\n",
       " '__repr__',\n",
       " '__setattr__',\n",
       " '__sizeof__',\n",
       " '__str__',\n",
       " '__subclasshook__',\n",
       " '__weakref__',\n",
       " 'add_radius',\n",
       " 'color',\n",
       " 'radius']"
      ]
     },
     "execution_count": 6,
     "metadata": {},
     "output_type": "execute_result"
    }
   ],
   "source": [
    "#a list of the object's methods\n",
    "dir(redCircle)"
   ]
  },
  {
   "cell_type": "code",
   "execution_count": 7,
   "id": "f4fcb9cb",
   "metadata": {},
   "outputs": [
    {
     "name": "stdout",
     "output_type": "stream",
     "text": [
      "Properties of the Vehicle:\n",
      "Color: white\n",
      "Maximum Speed: 200\n",
      "Mileage: 20\n",
      "Seating Capacity: 5\n",
      "Properties of the Vehicle:\n",
      "Color: white\n",
      "Maximum Speed: 180\n",
      "Mileage: 25\n",
      "Seating Capacity: 4\n"
     ]
    }
   ],
   "source": [
    "#Case Example\n",
    "class Vehicle:\n",
    "    color = \"white\"\n",
    "\n",
    "    def __init__(self, max_speed, mileage):\n",
    "        self.max_speed = max_speed\n",
    "        self.mileage = mileage\n",
    "        self.seating_capacity = None\n",
    "\n",
    "    def assign_seating_capacity(self, seating_capacity):\n",
    "        self.seating_capacity = seating_capacity\n",
    "\n",
    "    def display_properties(self):\n",
    "        print(\"Properties of the Vehicle:\")\n",
    "        print(\"Color:\", self.color)\n",
    "        print(\"Maximum Speed:\", self.max_speed)\n",
    "        print(\"Mileage:\", self.mileage)\n",
    "        print(\"Seating Capacity:\", self.seating_capacity)\n",
    "\n",
    "# Creating objects of the Vehicle class\n",
    "vehicle1 = Vehicle(200, 20)\n",
    "vehicle1.assign_seating_capacity(5)\n",
    "vehicle1.display_properties()\n",
    "\n",
    "vehicle2 = Vehicle(180, 25)\n",
    "vehicle2.assign_seating_capacity(4)\n",
    "vehicle2.display_properties()"
   ]
  },
  {
   "cell_type": "code",
   "execution_count": null,
   "id": "94945813",
   "metadata": {},
   "outputs": [],
   "source": []
  }
 ],
 "metadata": {
  "kernelspec": {
   "display_name": "Python 3 (ipykernel)",
   "language": "python",
   "name": "python3"
  },
  "language_info": {
   "codemirror_mode": {
    "name": "ipython",
    "version": 3
   },
   "file_extension": ".py",
   "mimetype": "text/x-python",
   "name": "python",
   "nbconvert_exporter": "python",
   "pygments_lexer": "ipython3",
   "version": "3.11.4"
  }
 },
 "nbformat": 4,
 "nbformat_minor": 5
}
