{
 "cells": [
  {
   "cell_type": "markdown",
   "id": "69c8945d",
   "metadata": {},
   "source": [
    "### String Manipulation Operation"
   ]
  },
  {
   "cell_type": "code",
   "execution_count": 3,
   "id": "1f649232",
   "metadata": {},
   "outputs": [
    {
     "name": "stdout",
     "output_type": "stream",
     "text": [
      "Upper result : HELLO ALL!\n",
      "Lower result : hello all!\n"
     ]
    }
   ],
   "source": [
    "#Upper and lower\n",
    "a = \"Hello all!\"\n",
    "b = a.upper()\n",
    "print (f\"Upper result : {b}\")\n",
    "c = a.lower()\n",
    "print (f\"Lower result : {c}\")"
   ]
  },
  {
   "cell_type": "code",
   "execution_count": 4,
   "id": "e8c9ad71",
   "metadata": {},
   "outputs": [
    {
     "data": {
      "text/plain": [
       "\"hej y'all!\""
      ]
     },
     "execution_count": 4,
     "metadata": {},
     "output_type": "execute_result"
    }
   ],
   "source": [
    "#Replace the old string with the new one\n",
    "a = \"Hello y'all!\"\n",
    "b = a.replace (\"Hello\",\"hej\")\n",
    "b"
   ]
  },
  {
   "cell_type": "code",
   "execution_count": 5,
   "id": "bf99e97f",
   "metadata": {},
   "outputs": [
    {
     "data": {
      "text/plain": [
       "2"
      ]
     },
     "execution_count": 5,
     "metadata": {},
     "output_type": "execute_result"
    }
   ],
   "source": [
    "#Find the substring, return : first index of searched string\n",
    "a = \"Hellooowww\"\n",
    "a.find(\"llo\")\n",
    "#if it not suitable, then it will give a -1 return"
   ]
  },
  {
   "cell_type": "code",
   "execution_count": 6,
   "id": "194176e6",
   "metadata": {},
   "outputs": [
    {
     "data": {
      "text/plain": [
       "['yogs', 'gas']"
      ]
     },
     "execution_count": 6,
     "metadata": {},
     "output_type": "execute_result"
    }
   ],
   "source": [
    "#split method, by space\n",
    "a = \"yogs gas\"\n",
    "a.split()"
   ]
  },
  {
   "cell_type": "markdown",
   "id": "6271d8ca",
   "metadata": {},
   "source": [
    "### RegEx (Regular Expression)"
   ]
  },
  {
   "cell_type": "code",
   "execution_count": 20,
   "id": "8462fc38",
   "metadata": {},
   "outputs": [],
   "source": [
    "#Regex is a tool for matching n handling strings\n",
    "import re"
   ]
  },
  {
   "cell_type": "code",
   "execution_count": 14,
   "id": "cd01e262",
   "metadata": {},
   "outputs": [
    {
     "name": "stdout",
     "output_type": "stream",
     "text": [
      "not found\n"
     ]
    }
   ],
   "source": [
    "#Search function, to search the specified paterns of a string\n",
    "#it will return yes, if the string has contained the character declared on the key\n",
    "word1 = \"Michael is the best\"\n",
    "key = \"al\"\n",
    "\n",
    "res = re.search(key,word1)\n",
    "\n",
    "if res:\n",
    "    print (\"found\")\n",
    "else:\n",
    "    print (\"not found\")"
   ]
  },
  {
   "cell_type": "markdown",
   "id": "a65d44f7",
   "metadata": {},
   "source": [
    "Regular expressions (RegEx) are patterns (of specified things) used to match and manipulate strings of text. There are several special sequences in RegEx that can be used to match specific characters or patterns.\n",
    "\n",
    "| Special Sequence | Meaning                 | \tExample             |\n",
    "| -----------  | ----------------------- | ----------------------|\n",
    "| \\d|Matches any digit character (0-9)|\"123\" matches \"\\d\\d\\d\"|\n",
    "|\\D|Matches any non-digit character|\"hello\" matches \"\\D\\D\\D\\D\\D\"|\n",
    "|\\w|Matches any word character (a-z, A-Z, 0-9, and _)|\"hello_world\" matches \"\\w\\w\\w\\w\\w\\w\\w\\w\\w\\w\\w\"|\n",
    "|\\W|Matches any non-word character|\t\"@#$%\" matches \"\\W\\W\\W\\W\"|\n",
    "|\\s|Matches any whitespace character (space, tab, newline, etc.)|\"hello world\" matches \"\\w\\w\\w\\w\\w\\s\\w\\w\\w\\w\\w\"|\n",
    "|\\S|Matches any non-whitespace character|\"hello_world\" matches \"\\S\\S\\S\\S\\S\\S\\S\\S\\S\"|\n",
    "|\\b|Matches the boundary between a word character and a non-word character|\"cat\" matches \"\\bcat\\b\" in \"The cat sat on the mat\"|\n",
    "|\\B|Matches any position that is not a word boundary|\"cat\" matches \"\\Bcat\\B\" in \"category\" but not in \"The cat sat on the mat\"|\n"
   ]
  },
  {
   "cell_type": "code",
   "execution_count": 34,
   "id": "c6cb1b1d",
   "metadata": {},
   "outputs": [
    {
     "name": "stdout",
     "output_type": "stream",
     "text": [
      "found :  1234567890\n"
     ]
    }
   ],
   "source": [
    "#a program to validate the minimum digit of phone number\n",
    "\n",
    "pattern = \"\\d\\d\\d\\d\\d\\d\\d\\d\\d\\d\"\n",
    "#10 character digit at the total\n",
    "\n",
    "text = \"Alex number is 1234567890\"\n",
    "isMatch = re.search(pattern,text)\n",
    "\n",
    "if isMatch:\n",
    "    print (\"found : \",isMatch.group())\n",
    "else:\n",
    "    print (\"not match\")\n",
    "    \n",
    "#It will return true, if the digit on input number fullfil\n",
    "#the minimum criteria that defined on the pattern"
   ]
  },
  {
   "cell_type": "code",
   "execution_count": 35,
   "id": "343e3d57",
   "metadata": {},
   "outputs": [
    {
     "name": "stdout",
     "output_type": "stream",
     "text": [
      "Matches =  ['@', ',', ' ', '!']\n"
     ]
    }
   ],
   "source": [
    "#a program to find out all of the special character\n",
    "\n",
    "pattern = '\\W'\n",
    "text = \"@Hello, Word!\"\n",
    "#basically, it will find all of the special character on the string\n",
    "matchs = re.findall(pattern, text)\n",
    "\n",
    "print(\"Matches = \",matchs)"
   ]
  },
  {
   "cell_type": "code",
   "execution_count": 38,
   "id": "d0befe37",
   "metadata": {},
   "outputs": [
    {
     "data": {
      "text/plain": [
       "['Michael',\n",
       " 'Jackson',\n",
       " 'was',\n",
       " 'a',\n",
       " 'singer',\n",
       " 'and',\n",
       " 'known',\n",
       " 'as',\n",
       " 'the',\n",
       " \"'King\",\n",
       " 'of',\n",
       " \"Pop'\"]"
      ]
     },
     "execution_count": 38,
     "metadata": {},
     "output_type": "execute_result"
    }
   ],
   "source": [
    "#split in regular eexpression library\n",
    "\n",
    "#split with specific character\n",
    "s2 = \"Michael Jackson was a singer and known as the 'King of Pop'\"\n",
    "re.split(\"\\s\",s2)"
   ]
  },
  {
   "cell_type": "code",
   "execution_count": 41,
   "id": "24ca81e6",
   "metadata": {},
   "outputs": [
    {
     "data": {
      "text/plain": [
       "\"Michael Jackson was a singer and known as the 'Legend'\""
      ]
     },
     "execution_count": 41,
     "metadata": {},
     "output_type": "execute_result"
    }
   ],
   "source": [
    "#replacing a word by the other word\n",
    "key = \"King of Pop\"\n",
    "replacement = \"Legend\"\n",
    "\n",
    "newstring = re.sub(key, replacement, s2, flags=re.IGNORECASE)\n",
    "newstring"
   ]
  },
  {
   "cell_type": "markdown",
   "id": "0f17b54d",
   "metadata": {},
   "source": [
    "**Simple Exercise.**\n",
    "\n",
    "1. A program to find a total number count of word in the string"
   ]
  },
  {
   "cell_type": "code",
   "execution_count": 6,
   "id": "f8ef8066",
   "metadata": {},
   "outputs": [
    {
     "name": "stdout",
     "output_type": "stream",
     "text": [
      "Mary : 6\n",
      "had : 2\n",
      "a : 2\n",
      "little : 3\n",
      "lamb : 3\n",
      "Little : 1\n",
      "lamb, : 1\n",
      "lamb.Its : 1\n",
      "fleece : 1\n",
      "was : 2\n",
      "white : 1\n",
      "as : 1\n",
      "snow : 1\n",
      "And : 1\n",
      "everywhere : 1\n",
      "that : 2\n",
      "went : 3\n",
      "went, : 1\n",
      "Everywhere : 1\n",
      "The : 1\n",
      "sure : 1\n",
      "to : 1\n",
      "go : 1\n"
     ]
    }
   ],
   "source": [
    "def counter(string):\n",
    "    word = []\n",
    "    word = string.split()\n",
    "    \n",
    "    dict = {}\n",
    "    for key in word:\n",
    "        dict[key] = word.count(key)\n",
    "        \n",
    "    for val in dict:\n",
    "        print (val, \":\", dict[val])\n",
    "\n",
    "counter(\"Mary had a little lamb Little lamb, little lamb Mary had a little lamb.Its fleece was white as snow And everywhere that Mary went Mary went, Mary went Everywhere that Mary went The lamb was sure to go\")"
   ]
  },
  {
   "cell_type": "markdown",
   "id": "ff67ba86",
   "metadata": {},
   "source": [
    "**Simple Exercise.**\n",
    "\n",
    "2. A program to find a total number count of a word in the string"
   ]
  },
  {
   "cell_type": "code",
   "execution_count": 14,
   "id": "65f10775",
   "metadata": {},
   "outputs": [
    {
     "name": "stdout",
     "output_type": "stream",
     "text": [
      "little : 3\n"
     ]
    }
   ],
   "source": [
    "def counter (string):\n",
    "    word = []\n",
    "    word = string.split()\n",
    "    \n",
    "    dicts = {}\n",
    "    for unique in word:\n",
    "        if unique == 'little':\n",
    "            #unique is each elements on the 'word' list\n",
    "            #then we will input the value of key's dictionary with the count of unique word in the word list\n",
    "            #dicts[unique] is to asses the value of dictionary's key\n",
    "            #word.count(unique) means that we will count, the occurence number of 'unique' in the word list\n",
    "            dicts[unique] = word.count(unique)\n",
    "    \n",
    "    for x in dicts:\n",
    "        print(x, \":\", dicts[x])\n",
    "        \n",
    "counter(\"Mary had a little lamb Little lamb, little lamb Mary had a little lamb.Its fleece was white as snow And everywhere that Mary went Mary went, Mary went Everywhere that Mary went The lamb was sure to go\")"
   ]
  },
  {
   "cell_type": "code",
   "execution_count": 21,
   "id": "e1e6c6a1",
   "metadata": {},
   "outputs": [
    {
     "data": {
      "text/plain": [
       "3"
      ]
     },
     "execution_count": 21,
     "metadata": {},
     "output_type": "execute_result"
    }
   ],
   "source": [
    "x = ('apple','apple','apple')\n",
    "x.count('apple')"
   ]
  },
  {
   "cell_type": "code",
   "execution_count": null,
   "id": "45588e2b",
   "metadata": {},
   "outputs": [],
   "source": []
  }
 ],
 "metadata": {
  "kernelspec": {
   "display_name": "Python 3 (ipykernel)",
   "language": "python",
   "name": "python3"
  },
  "language_info": {
   "codemirror_mode": {
    "name": "ipython",
    "version": 3
   },
   "file_extension": ".py",
   "mimetype": "text/x-python",
   "name": "python",
   "nbconvert_exporter": "python",
   "pygments_lexer": "ipython3",
   "version": "3.11.4"
  }
 },
 "nbformat": 4,
 "nbformat_minor": 5
}
