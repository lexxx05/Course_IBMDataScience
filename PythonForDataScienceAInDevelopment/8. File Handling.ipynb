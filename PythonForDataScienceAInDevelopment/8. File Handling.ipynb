{
 "cells": [
  {
   "cell_type": "markdown",
   "id": "86ccc73a",
   "metadata": {},
   "source": [
    "# Open and Read a File"
   ]
  },
  {
   "cell_type": "code",
   "execution_count": 17,
   "id": "4e79b5f7",
   "metadata": {},
   "outputs": [
    {
     "name": "stdout",
     "output_type": "stream",
     "text": [
      "This is line 1 \n",
      "This is line 2\n",
      "This is line 3\n"
     ]
    },
    {
     "name": "stderr",
     "output_type": "stream",
     "text": [
      "  % Total    % Received % Xferd  Average Speed   Time    Time     Time  Current\n",
      "                                 Dload  Upload   Total   Spent    Left  Speed\n",
      "\n",
      "  0     0    0     0    0     0      0      0 --:--:-- --:--:-- --:--:--     0curl: (6) Could not resolve host: example1.txt\n",
      "  % Total    % Received % Xferd  Average Speed   Time    Time     Time  Current\n",
      "                                 Dload  Upload   Total   Spent    Left  Speed\n",
      "\n",
      "  0     0    0     0    0     0      0      0 --:--:-- --:--:-- --:--:--     0\n",
      "  0     0    0     0    0     0      0      0 --:--:-- --:--:-- --:--:--     0\n",
      "100    45  100    45    0     0     52      0 --:--:-- --:--:-- --:--:--    52\n"
     ]
    }
   ],
   "source": [
    "import urllib.request\n",
    "url = 'https://cf-courses-data.s3.us.cloud-object-storage.appdomain.cloud/IBMDeveloperSkillsNetwork-PY0101EN-SkillsNetwork/labs/Module%204/data/example1.txt'\n",
    "filename = 'example1.txt'\n",
    "urllib.request.urlretrieve(url, filename)\n",
    "\n",
    "## Download Example file\n",
    "!curl example1.txt https://cf-courses-data.s3.us.cloud-object-storage.appdomain.cloud/IBMDeveloperSkillsNetwork-PY0101EN-SkillsNetwork/labs/Module%204/data/example1.txt"
   ]
  },
  {
   "cell_type": "code",
   "execution_count": 26,
   "id": "f3ac0562",
   "metadata": {},
   "outputs": [
    {
     "name": "stdout",
     "output_type": "stream",
     "text": [
      "This is line 1 \n",
      "This is line 2\n",
      "This is line 3\n",
      "<class '_io.TextIOWrapper'>\n"
     ]
    }
   ],
   "source": [
    "#read the entire file using an open method\n",
    "\n",
    "#create an object for the text file\n",
    "example1 = 'example1.txt'\n",
    "\n",
    "#assign the object to a variabel that called file1\n",
    "with open(example1, 'r') as file1:\n",
    "    print(file1.read())\n",
    "    print(type(file1))"
   ]
  },
  {
   "cell_type": "code",
   "execution_count": 28,
   "id": "5149094f",
   "metadata": {},
   "outputs": [
    {
     "name": "stdout",
     "output_type": "stream",
     "text": [
      "This\n",
      " is \n",
      "line 1 \n",
      "\n",
      "This is line 2\n"
     ]
    }
   ],
   "source": [
    "#read the certain ammount of character\n",
    "with open(example1,'r') as file1:\n",
    "    print(file1.read(4))\n",
    "    print(file1.read(4))\n",
    "    print(file1.read(7))\n",
    "    print(file1.read(15))"
   ]
  },
  {
   "cell_type": "code",
   "execution_count": 30,
   "id": "04e4eded",
   "metadata": {},
   "outputs": [
    {
     "name": "stdout",
     "output_type": "stream",
     "text": [
      "This is line 1 \n",
      "\n",
      "This is line 3\n"
     ]
    }
   ],
   "source": [
    "#read the each line with save it to the list\n",
    "with open(example1,'r') as file1:\n",
    "    listFile = file1.readlines()\n",
    "\n",
    "print(listFile[0])\n",
    "print(listFile[2])"
   ]
  },
  {
   "cell_type": "code",
   "execution_count": 31,
   "id": "89434657",
   "metadata": {},
   "outputs": [
    {
     "name": "stdout",
     "output_type": "stream",
     "text": [
      "Iteration 0 : This is line 1 \n",
      "\n",
      "Iteration 1 : This is line 2\n",
      "\n",
      "Iteration 2 : This is line 3\n"
     ]
    }
   ],
   "source": [
    "#read the each line with an iteration\n",
    "with open(example1,'r') as file1:\n",
    "    i = 0\n",
    "    for line in file1:\n",
    "        print (\"Iteration\",str(i),\":\",line)\n",
    "        i += 1"
   ]
  },
  {
   "cell_type": "markdown",
   "id": "8714670f",
   "metadata": {},
   "source": [
    "# Write a File"
   ]
  },
  {
   "cell_type": "code",
   "execution_count": 32,
   "id": "e13c6f4b",
   "metadata": {},
   "outputs": [],
   "source": [
    "#create a new file that will be write\n",
    "example2 = 'example2.txt'\n",
    "\n",
    "#use w method, to make a new file and write it\n",
    "with open (example2, 'w') as writefile:\n",
    "    writefile.write('This is the 1st line\\n')\n",
    "    writefile.write('This is the 2nd line\\n')"
   ]
  },
  {
   "cell_type": "code",
   "execution_count": 34,
   "id": "b2db8a05",
   "metadata": {},
   "outputs": [
    {
     "name": "stdout",
     "output_type": "stream",
     "text": [
      "This is the 1st line\n",
      "This is the 2nd line\n",
      "\n"
     ]
    }
   ],
   "source": [
    "#test the created file with read method\n",
    "with open(example2,'r') as file2:\n",
    "    print(file2.read())"
   ]
  },
  {
   "cell_type": "code",
   "execution_count": 35,
   "id": "fefbaf79",
   "metadata": {},
   "outputs": [],
   "source": [
    "#write more elements to the file with the append method\n",
    "#we write the element using the list\n",
    "\n",
    "lines = ['line a\\n','line b\\n','line c\\n']\n",
    "with open (example2,'a') as appendFile:\n",
    "    for line in lines:\n",
    "        appendFile.write(line)"
   ]
  },
  {
   "cell_type": "code",
   "execution_count": 36,
   "id": "a52aad0e",
   "metadata": {},
   "outputs": [
    {
     "name": "stdout",
     "output_type": "stream",
     "text": [
      "This is the 1st line\n",
      "This is the 2nd line\n",
      "line a\n",
      "line b\n",
      "line c\n",
      "\n"
     ]
    }
   ],
   "source": [
    "#test again the updated file with read method\n",
    "with open(example2,'r') as file2:\n",
    "    print(file2.read())"
   ]
  },
  {
   "cell_type": "code",
   "execution_count": 38,
   "id": "9342c72a",
   "metadata": {},
   "outputs": [],
   "source": [
    "#copy a file to another file\n",
    "example3 = 'example3.txt'\n",
    "\n",
    "with open(example2,'r') as file1:\n",
    "    with open(example3,'w') as file2:\n",
    "        for line in file1:\n",
    "            file2.write(line)"
   ]
  },
  {
   "cell_type": "code",
   "execution_count": 39,
   "id": "db8ee069",
   "metadata": {},
   "outputs": [
    {
     "name": "stdout",
     "output_type": "stream",
     "text": [
      "This is the 1st line\n",
      "This is the 2nd line\n",
      "line a\n",
      "line b\n",
      "line c\n",
      "\n"
     ]
    }
   ],
   "source": [
    "#check the copied file\n",
    "with open(example3,'r') as file3:\n",
    "    print(file3.read())"
   ]
  },
  {
   "cell_type": "code",
   "execution_count": null,
   "id": "e7c760bf",
   "metadata": {},
   "outputs": [],
   "source": []
  }
 ],
 "metadata": {
  "kernelspec": {
   "display_name": "Python 3 (ipykernel)",
   "language": "python",
   "name": "python3"
  },
  "language_info": {
   "codemirror_mode": {
    "name": "ipython",
    "version": 3
   },
   "file_extension": ".py",
   "mimetype": "text/x-python",
   "name": "python",
   "nbconvert_exporter": "python",
   "pygments_lexer": "ipython3",
   "version": "3.11.4"
  }
 },
 "nbformat": 4,
 "nbformat_minor": 5
}
