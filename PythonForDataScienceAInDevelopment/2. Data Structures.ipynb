{
 "cells": [
  {
   "cell_type": "markdown",
   "id": "938f7773",
   "metadata": {},
   "source": [
    "# Tuple"
   ]
  },
  {
   "cell_type": "markdown",
   "id": "56e7bcac",
   "metadata": {},
   "source": [
    "Definition :\n",
    "1. Tuple are an ordered sequence, Written as comma-separated elements within parentheses\n",
    "2. Tuple can combine 3 datatype, int, string and float. But, the variabel type is recognized as tuple\n",
    "3. Each element on the tuple can be accesed with the index number (+ and -)\n",
    "4. Tuple is immutable\n",
    "\n",
    "Tuple : Concatenating (Combine 2 tuples)\n",
    "* Formula : tuples = tuple1 + tuple2\n",
    "\n",
    "Tuple : Slicing Elements\n",
    "* Formula : tuple_name[x:y:z]\n",
    "*   x = from the x-th element\n",
    "*   y = until before y-th element\n",
    "*   z = spare y-th element\n",
    "\n",
    "Tuple : Immutable (Cannot be add, pop, or modify the elements)\n",
    "* If we want to modify it (like sort), then we need to assign to the new tuples\n",
    "\n",
    "Tuple : Nested tuples\n",
    "* A tuple can contain other tuples as well as other complex datatype\n",
    "* Ex. NT = (1,2,(\"pop\",\"rock\"), (3,4)).\n",
    "* The elements on the n-layered can be accesed with the n dimension indexing method. ex. NT[2][1] = \"rock\". NT[2][1][0] = \"r\""
   ]
  },
  {
   "cell_type": "markdown",
   "id": "af9a7986",
   "metadata": {},
   "source": [
    "=================================================================="
   ]
  },
  {
   "cell_type": "code",
   "execution_count": 21,
   "id": "affcde42",
   "metadata": {},
   "outputs": [
    {
     "name": "stdout",
     "output_type": "stream",
     "text": [
      "('disco', 10.1, 12, True)\n",
      "<class 'tuple'>\n",
      "10.1\n",
      "True\n",
      "('disco', 10.1)\n",
      "('disco', 10.1, 12, True, 'yes', 23)\n",
      "6\n",
      "[0, 1, 1, 2, 2.5, 3, 5, 9]\n",
      "('pop', 'rock')\n",
      "pop\n",
      "o\n"
     ]
    }
   ],
   "source": [
    "#create a tuple\n",
    "tup = ('disco',10.1,12,True)\n",
    "print(tup)\n",
    "print(type(tup))\n",
    "\n",
    "#acces the tuple by indexing\n",
    "print(tup[1])\n",
    "print(tup[-1])\n",
    "\n",
    "#slicing tupple\n",
    "print(tup[:2])\n",
    "\n",
    "#concatenate tuple\n",
    "tup2 = ('yes',23)\n",
    "tups = tup + tup2\n",
    "print(tups)\n",
    "\n",
    "#tuple lenght\n",
    "print(len(tups))\n",
    "\n",
    "#sorting tuple, with create a new one\n",
    "tupy = (5,1,9,2,0,3,1,2.5)\n",
    "sortedTup = sorted(tupy)\n",
    "print(sortedTup)\n",
    "\n",
    "#nested tuple\n",
    "NestedT =(1, 2, (\"pop\", \"rock\") ,(3,4),(\"disco\",(1,2)))\n",
    "print(NestedT[2])\n",
    "print(NestedT[2][0])\n",
    "print(NestedT[2][0][1])"
   ]
  },
  {
   "cell_type": "markdown",
   "id": "38271c60",
   "metadata": {},
   "source": [
    "# List"
   ]
  },
  {
   "cell_type": "markdown",
   "id": "d87c9753",
   "metadata": {},
   "source": [
    "Definition\n",
    "1. List is also an ordered sequence, written as comma seperated elements, within square bracket\n",
    "2. List can contain string, integer and float\n",
    "3. List can combine/nesting the other datastructure, such as tuple\n",
    "4. List is mutable\n",
    "\n",
    "List : Accesing and Slicing Elements\n",
    "* Formula : list_name[x:y:z]\n",
    "\n",
    "List : Concatenate\n",
    "* Formula : new_list = list1 + list2\n",
    "\n",
    "List : Mutable [Add a New Element]\n",
    "* Concatenate and modify the current list : list_name.extend([value])\n",
    "* Appending the current list : list_name.append(value)\n",
    "* Notes!\n",
    "* Append only can take 1 argument each (dont put the list to argument, just value). If more, then it will be a nested list. \n",
    "* Extend need a list argument, and it will be not nested the original list\n",
    "\n",
    "List : Mutable [Modify an Element]\n",
    "* Formula = list_name[index] = new_value\n",
    "\n",
    "List : Mutable [Delete an element on the index]\n",
    "* Formula = del(list_name[index])\n",
    "\n",
    "Conversion from string to list\n",
    "* Formula = string_name.split(delimiter)\n",
    "\n",
    "More information\n",
    "* Formula = help(list_name)"
   ]
  },
  {
   "cell_type": "code",
   "execution_count": 8,
   "id": "f238cee4",
   "metadata": {},
   "outputs": [
    {
     "name": "stdout",
     "output_type": "stream",
     "text": [
      "michael\n",
      "('A', 1)\n",
      "[10.1, 1982]\n",
      "['michael', 10.1, 1982, [1, 2], ('A', 1), 'pop', 18]\n",
      "['michael', 10.1, 1982, [1, 2], ('A', 1), 'pop', 18, 90]\n",
      "['alex', 10.1, 1982, [1, 2], ('A', 1), 'pop', 18, 90]\n",
      "[1982, [1, 2], ('A', 1), 'pop', 18, 90]\n"
     ]
    }
   ],
   "source": [
    "#creat a list\n",
    "l = ['michael',10.1,1982,[1,2], ('A',1)]\n",
    "\n",
    "#access list\n",
    "print(l[0])\n",
    "print(l[-1])\n",
    "\n",
    "#slicing\n",
    "print(l[1:3])\n",
    "\n",
    "#extend \n",
    "l.extend(['pop',18])\n",
    "print(l)\n",
    "\n",
    "#append, only one element\n",
    "l.append(90)\n",
    "print(l)\n",
    "\n",
    "#change element\n",
    "l[0] = 'alex'\n",
    "print(l)\n",
    "\n",
    "#delete element\n",
    "del(l[:2])\n",
    "print(l)"
   ]
  },
  {
   "cell_type": "code",
   "execution_count": 1,
   "id": "9de81988",
   "metadata": {},
   "outputs": [
    {
     "name": "stdout",
     "output_type": "stream",
     "text": [
      "[5, 7, 1, 2]\n",
      "[5, 7, 1, 2, 'a']\n",
      "[5, 7, 1, 2, 'a', 5, 9, 1]\n",
      "[5, 7, 1, 2, 'a', 5, 9, 1, [5, 9, 1]]\n"
     ]
    }
   ],
   "source": [
    "#Append vs Extend\n",
    "list1 = [5,7,1,2]\n",
    "print (list1)\n",
    "\n",
    "list1.append(\"a\")\n",
    "print(list1)\n",
    "\n",
    "list1.extend([5,9,1])\n",
    "print (list1)\n",
    "\n",
    "list1.append([5,9,1])\n",
    "print (list1)"
   ]
  },
  {
   "cell_type": "markdown",
   "id": "1d0cc406",
   "metadata": {},
   "source": [
    "# Dictionary "
   ]
  },
  {
   "cell_type": "markdown",
   "id": "f07eb4df",
   "metadata": {},
   "source": [
    "Basically, dictionary is seems like the list\n",
    "\n",
    "If in the list, we are accessing the value based on its unique index\n",
    "\n",
    "Then,\n",
    "In dictionary, we will acces it based on its unique and custom key, and for every key, there can only be one single value"
   ]
  },
  {
   "cell_type": "markdown",
   "id": "0d868e4b",
   "metadata": {},
   "source": [
    "<img src=\"https://cf-courses-data.s3.us.cloud-object-storage.appdomain.cloud/IBMDeveloperSkillsNetwork-PY0101EN-SkillsNetwork/labs/Module%202/images/DictsList.png\" width=\"650\">"
   ]
  },
  {
   "cell_type": "code",
   "execution_count": 17,
   "id": "a47ae0b8",
   "metadata": {},
   "outputs": [
    {
     "data": {
      "text/plain": [
       "{'Thriller': '1982',\n",
       " 'Back in Black': '1980',\n",
       " 'The Dark Side of the Moon': '1973',\n",
       " 'The Bodyguard': '1992',\n",
       " 'Bat Out of Hell': '1977',\n",
       " 'Their Greatest Hits (1971-1975)': '1976',\n",
       " 'Saturday Night Fever': '1977',\n",
       " 'Rumours': '1977'}"
      ]
     },
     "execution_count": 17,
     "metadata": {},
     "output_type": "execute_result"
    }
   ],
   "source": [
    "#Create a dictionary\n",
    "dicts = {\"Thriller\": \"1982\", \"Back in Black\": \"1980\", \\\n",
    "         \"The Dark Side of the Moon\": \"1973\", \"The Bodyguard\": \"1992\", \\\n",
    "        \"Bat Out of Hell\": \"1977\", \"Their Greatest Hits (1971-1975)\": \"1976\", \\\n",
    "        \"Saturday Night Fever\": \"1977\", \"Rumours\": \"1977\"}\n",
    "dicts"
   ]
  },
  {
   "cell_type": "markdown",
   "id": "099e6e1d",
   "metadata": {},
   "source": [
    " <img src=\"https://cf-courses-data.s3.us.cloud-object-storage.appdomain.cloud/IBMDeveloperSkillsNetwork-PY0101EN-SkillsNetwork/labs/Module%202/images/DictsStructure.png\" width=\"650\">"
   ]
  },
  {
   "cell_type": "code",
   "execution_count": 18,
   "id": "aa110e0e",
   "metadata": {},
   "outputs": [
    {
     "name": "stdout",
     "output_type": "stream",
     "text": [
      "1992\n",
      "dict_keys(['Thriller', 'Back in Black', 'The Dark Side of the Moon', 'The Bodyguard', 'Bat Out of Hell', 'Their Greatest Hits (1971-1975)', 'Saturday Night Fever', 'Rumours'])\n",
      "dict_values(['1982', '1980', '1973', '1992', '1977', '1976', '1977', '1977'])\n",
      "{'Thriller': '1982', 'Back in Black': '1980', 'The Dark Side of the Moon': '1973', 'The Bodyguard': '1992', 'Bat Out of Hell': '1977', 'Their Greatest Hits (1971-1975)': '1976', 'Saturday Night Fever': '1977', 'Rumours': '1977', 'Graduation': '2007'}\n",
      "{'Back in Black': '1980', 'The Dark Side of the Moon': '1973', 'The Bodyguard': '1992', 'Bat Out of Hell': '1977', 'Their Greatest Hits (1971-1975)': '1976', 'Saturday Night Fever': '1977', 'Rumours': '1977'}\n",
      "True\n",
      "False\n"
     ]
    }
   ],
   "source": [
    "# Get value by key\n",
    "print(dicts['The Bodyguard'])\n",
    "\n",
    "# Get all the keys in dictionary\n",
    "print(dicts.keys())\n",
    "\n",
    "# Get all the values in dictionary\n",
    "print(dicts.values())\n",
    "\n",
    "# Add an entry to dictionary\n",
    "dicts['Graduation'] = '2007'\n",
    "print(dicts)\n",
    "\n",
    "# Delete an entry from dictionaryu\n",
    "del(dicts['Graduation'])\n",
    "del(dicts['Thriller'])\n",
    "print(dicts)\n",
    "\n",
    "# Verify the key in dictionary\n",
    "print('Bat Out of Hell' in dicts)\n",
    "print('Binusian' in dicts)"
   ]
  },
  {
   "cell_type": "markdown",
   "id": "1e5ce838",
   "metadata": {},
   "source": [
    "**Dictionary Exercise**"
   ]
  },
  {
   "cell_type": "code",
   "execution_count": 20,
   "id": "eaff4fc5",
   "metadata": {},
   "outputs": [
    {
     "name": "stdout",
     "output_type": "stream",
     "text": [
      "P1Name : Mobile Phone\n",
      "P1Q : 5\n",
      "P1P : 20000\n",
      "P1Y : 2020\n",
      "P2Name : Laptop\n",
      "P2Q : 10\n",
      "P2P : 50000\n",
      "P2Y : 2023\n",
      "True\n",
      "=================\n",
      "Updated Dictionary\n",
      "P1Name: Mobile Phone\n",
      "P1Q: 5\n",
      "P1P: 20000\n",
      "P2Name: Laptop\n",
      "P2Q: 10\n",
      "P2P: 50000\n"
     ]
    }
   ],
   "source": [
    "#Create an empty dictionary\n",
    "dicts = {}\n",
    "\n",
    "#Store the first product detail\n",
    "P1Name = 'Mobile Phone'\n",
    "P1Q = 5\n",
    "P1P = 20000\n",
    "P1Y = '2020'\n",
    "\n",
    "#Add detail to dictionary\n",
    "dicts['P1Name'] = P1Name\n",
    "dicts['P1Q'] = P1Q\n",
    "dicts['P1P'] = P1P\n",
    "dicts['P1Y'] = P1Y\n",
    "\n",
    "#Store the second product detail\n",
    "P2Name = 'Laptop'\n",
    "P2Q = 10\n",
    "P2P = 50000\n",
    "P2Y = '2023'\n",
    "\n",
    "#Add detail to the dictionary\n",
    "dicts['P2Name'] = P2Name\n",
    "dicts['P2Q'] = P2Q\n",
    "dicts['P2P'] = P2P\n",
    "dicts['P2Y'] = P2Y\n",
    "\n",
    "#Display all products in dictionary\n",
    "for i in dicts:\n",
    "    print (f\"{i} : {dicts[i]}\")\n",
    "    \n",
    "#Check the existence of Product release year\n",
    "print('P1Y' in dicts)\n",
    "\n",
    "#Delete the release year\n",
    "del(dicts['P1Y'])\n",
    "del(dicts['P2Y'])\n",
    "\n",
    "#Print again the updated dictionary\n",
    "print (\"=================\")\n",
    "print (\"Updated Dictionary\")\n",
    "for i in dicts:\n",
    "    print(f\"{i}: {dicts[i]}\")"
   ]
  },
  {
   "cell_type": "markdown",
   "id": "fdfaef37",
   "metadata": {},
   "source": [
    "# Set"
   ]
  },
  {
   "cell_type": "markdown",
   "id": "ca0210e4",
   "metadata": {},
   "source": [
    "Definition :\n",
    "* A type of collection, a set can contains different python datatypes\n",
    "* An ordered sequence, a set do not record the element potition, and will sort it automatically\n",
    "* Unique elements, it is only one of a particular element in a set. It will never been doubled."
   ]
  },
  {
   "cell_type": "code",
   "execution_count": 31,
   "id": "b1d6c546",
   "metadata": {},
   "outputs": [
    {
     "name": "stdout",
     "output_type": "stream",
     "text": [
      "{'pop', 'disco', 'hard rock', 'R&B', 'rock', 'soul'}\n",
      "{'30-Nov-82', 65, 'Pop, Rock, R&B', 10.0, 'Thriller', 'Michael Jackson', 46.0, None, '00:42:19', 1982}\n",
      "{'True', 'soul', 'folk rock', 'pop', 'soft rock', 'disco', 'progressive rock', 'hard rock', 'R&B', 'rock'}\n",
      "True\n"
     ]
    }
   ],
   "source": [
    "#Create a set\n",
    "sets = {\"pop\", \"rock\", \"soul\", \"hard rock\", \"rock\", \"R&B\", \"rock\", \"disco\"}\n",
    "print(sets)\n",
    "#Notes. Theres a difference between use the argument print or not.\n",
    "#If it is not using print, it will be ordered. Otherwise, it will be unordered\n",
    "\n",
    "\n",
    "#convert a list to a set\n",
    "album_list = [ \"Michael Jackson\", \"Thriller\", 1982, \"00:42:19\", \\\n",
    "              \"Pop, Rock, R&B\", 46.0, 65, \"30-Nov-82\", None, 10.0]\n",
    "set1 = set(album_list)             \n",
    "print(set1)\n",
    "\n",
    "set2 = set([\"pop\", \"pop\", \"rock\", \"folk rock\", \"hard rock\", \"soul\", \\\n",
    "                    \"progressive rock\", \"soft rock\", \"R&B\", \"disco\",\"True\"])\n",
    "print(set2)\n",
    "\n",
    "\n",
    "#Add element to a set\n",
    "set1.add('True')\n",
    "\n",
    "#Remove an element from a set\n",
    "set1.remove(1982)\n",
    "\n",
    "#Verify an existence of element in a set\n",
    "print('folk rock' in set2)"
   ]
  },
  {
   "cell_type": "markdown",
   "id": "dbc28554",
   "metadata": {},
   "source": [
    "Sets Operation"
   ]
  },
  {
   "cell_type": "code",
   "execution_count": 32,
   "id": "59ac6af3",
   "metadata": {},
   "outputs": [],
   "source": [
    "#Declare the set\n",
    "sets1 = set([\"Thriller\", 'AC/DC', 'Back in Black'])\n",
    "sets2 = set([ \"AC/DC\", \"Back in Black\", \"The Dark Side of the Moon\"])"
   ]
  },
  {
   "cell_type": "code",
   "execution_count": 33,
   "id": "c01d608f",
   "metadata": {},
   "outputs": [
    {
     "data": {
      "text/plain": [
       "({'AC/DC', 'Back in Black', 'Thriller'},\n",
       " {'AC/DC', 'Back in Black', 'The Dark Side of the Moon'})"
      ]
     },
     "execution_count": 33,
     "metadata": {},
     "output_type": "execute_result"
    }
   ],
   "source": [
    "#print both of it\n",
    "sets1, sets2"
   ]
  },
  {
   "cell_type": "code",
   "execution_count": 35,
   "id": "c43c0a8d",
   "metadata": {},
   "outputs": [
    {
     "data": {
      "text/plain": [
       "{'Thriller'}"
      ]
     },
     "execution_count": 35,
     "metadata": {},
     "output_type": "execute_result"
    }
   ],
   "source": [
    "#Difference in set 1, but not set 2 (set2 - set1)\n",
    "sets1.difference(sets2)"
   ]
  },
  {
   "cell_type": "markdown",
   "id": "bd1a67ce",
   "metadata": {},
   "source": [
    "<img src=\"https://cf-courses-data.s3.us.cloud-object-storage.appdomain.cloud/IBMDeveloperSkillsNetwork-PY0101EN-SkillsNetwork/labs/Module%202/images/SetsLeft.png\" width=\"650\">"
   ]
  },
  {
   "cell_type": "code",
   "execution_count": 36,
   "id": "f2e6d1a3",
   "metadata": {},
   "outputs": [
    {
     "data": {
      "text/plain": [
       "{'The Dark Side of the Moon'}"
      ]
     },
     "execution_count": 36,
     "metadata": {},
     "output_type": "execute_result"
    }
   ],
   "source": [
    "#Difference in set 2, but not in set 1\n",
    "sets2.difference(sets1)"
   ]
  },
  {
   "cell_type": "markdown",
   "id": "38f031e2",
   "metadata": {},
   "source": [
    "<img src=\"https://cf-courses-data.s3.us.cloud-object-storage.appdomain.cloud/IBMDeveloperSkillsNetwork-PY0101EN-SkillsNetwork/labs/Module%202/images/SetsRight.png\" width=\"650\">"
   ]
  },
  {
   "cell_type": "code",
   "execution_count": 37,
   "id": "ea2d6d93",
   "metadata": {},
   "outputs": [
    {
     "data": {
      "text/plain": [
       "{'AC/DC', 'Back in Black'}"
      ]
     },
     "execution_count": 37,
     "metadata": {},
     "output_type": "execute_result"
    }
   ],
   "source": [
    "#The intersection of the set\n",
    "sets1.intersection(sets2)"
   ]
  },
  {
   "cell_type": "markdown",
   "id": "74686a2b",
   "metadata": {},
   "source": [
    "<img src=\"https://cf-courses-data.s3.us.cloud-object-storage.appdomain.cloud/IBMDeveloperSkillsNetwork-PY0101EN-SkillsNetwork/labs/Module%202/images/SetsIntersect.png\" width=\"650\">"
   ]
  },
  {
   "cell_type": "code",
   "execution_count": 38,
   "id": "540bdd27",
   "metadata": {},
   "outputs": [
    {
     "data": {
      "text/plain": [
       "{'AC/DC', 'Back in Black', 'The Dark Side of the Moon', 'Thriller'}"
      ]
     },
     "execution_count": 38,
     "metadata": {},
     "output_type": "execute_result"
    }
   ],
   "source": [
    "#The union of the set\n",
    "sets1.union(sets2)"
   ]
  },
  {
   "cell_type": "markdown",
   "id": "07d9a3d1",
   "metadata": {},
   "source": [
    "<img src=\"https://cf-courses-data.s3.us.cloud-object-storage.appdomain.cloud/IBMDeveloperSkillsNetwork-PY0101EN-SkillsNetwork/labs/Module%202/images/SetsUnion.png\" width=\"650\">\n"
   ]
  },
  {
   "cell_type": "code",
   "execution_count": 42,
   "id": "b8838704",
   "metadata": {},
   "outputs": [
    {
     "data": {
      "text/plain": [
       "False"
      ]
     },
     "execution_count": 42,
     "metadata": {},
     "output_type": "execute_result"
    }
   ],
   "source": [
    "#Check is subset or is superset\n",
    "set(sets1).issuperset(sets2) \n",
    "set(sets2).issubset(sets1)"
   ]
  },
  {
   "cell_type": "code",
   "execution_count": null,
   "id": "36fe96d9",
   "metadata": {},
   "outputs": [],
   "source": []
  }
 ],
 "metadata": {
  "kernelspec": {
   "display_name": "Python 3 (ipykernel)",
   "language": "python",
   "name": "python3"
  },
  "language_info": {
   "codemirror_mode": {
    "name": "ipython",
    "version": 3
   },
   "file_extension": ".py",
   "mimetype": "text/x-python",
   "name": "python",
   "nbconvert_exporter": "python",
   "pygments_lexer": "ipython3",
   "version": "3.11.4"
  }
 },
 "nbformat": 4,
 "nbformat_minor": 5
}
