{
 "cells": [
  {
   "cell_type": "markdown",
   "id": "d2ffc41b",
   "metadata": {},
   "source": [
    "# About Dataframe"
   ]
  },
  {
   "cell_type": "markdown",
   "id": "4357d3fd",
   "metadata": {},
   "source": [
    "A **DataFrame** is a two-dimensional data structure, i.e., data is aligned in a tabular fashion in rows and columns.\n",
    "\n",
    "* A Pandas DataFrame will be created by loading the datasets from existing storage. \n",
    "* Storage can be SQL Database, CSV file, Excel file, etc. \n",
    "* It can also be created from the lists, dictionaries, and from a list of dictionaries.\n",
    "\n",
    "**Series** represents a one-dimensional array of indexed data.\n",
    "It has two main components :\n",
    "1. An array of actual data.\n",
    "2. An associated array of indexes or data labels.\n",
    "\n",
    "The index is used to access individual data values. You can also get a column of a dataframe as a **Series**. You can think of a Pandas series as a 1-D dataframe. "
   ]
  },
  {
   "cell_type": "code",
   "execution_count": 2,
   "id": "c2e61a2b",
   "metadata": {},
   "outputs": [],
   "source": [
    "import pandas as pd"
   ]
  },
  {
   "cell_type": "code",
   "execution_count": 3,
   "id": "93f45890",
   "metadata": {},
   "outputs": [
    {
     "data": {
      "text/html": [
       "<div>\n",
       "<style scoped>\n",
       "    .dataframe tbody tr th:only-of-type {\n",
       "        vertical-align: middle;\n",
       "    }\n",
       "\n",
       "    .dataframe tbody tr th {\n",
       "        vertical-align: top;\n",
       "    }\n",
       "\n",
       "    .dataframe thead th {\n",
       "        text-align: right;\n",
       "    }\n",
       "</style>\n",
       "<table border=\"1\" class=\"dataframe\">\n",
       "  <thead>\n",
       "    <tr style=\"text-align: right;\">\n",
       "      <th></th>\n",
       "      <th>Name</th>\n",
       "      <th>ID</th>\n",
       "      <th>Department</th>\n",
       "      <th>Salary</th>\n",
       "    </tr>\n",
       "  </thead>\n",
       "  <tbody>\n",
       "    <tr>\n",
       "      <th>1</th>\n",
       "      <td>Rose</td>\n",
       "      <td>1</td>\n",
       "      <td>Architect Group</td>\n",
       "      <td>100000</td>\n",
       "    </tr>\n",
       "    <tr>\n",
       "      <th>2</th>\n",
       "      <td>John</td>\n",
       "      <td>2</td>\n",
       "      <td>Software Group</td>\n",
       "      <td>80000</td>\n",
       "    </tr>\n",
       "    <tr>\n",
       "      <th>3</th>\n",
       "      <td>Jane</td>\n",
       "      <td>3</td>\n",
       "      <td>Architect Group</td>\n",
       "      <td>50000</td>\n",
       "    </tr>\n",
       "    <tr>\n",
       "      <th>4</th>\n",
       "      <td>Mary</td>\n",
       "      <td>4</td>\n",
       "      <td>Infrastructure</td>\n",
       "      <td>60000</td>\n",
       "    </tr>\n",
       "  </tbody>\n",
       "</table>\n",
       "</div>"
      ],
      "text/plain": [
       "   Name  ID       Department  Salary\n",
       "1  Rose   1  Architect Group  100000\n",
       "2  John   2   Software Group   80000\n",
       "3  Jane   3  Architect Group   50000\n",
       "4  Mary   4   Infrastructure   60000"
      ]
     },
     "execution_count": 3,
     "metadata": {},
     "output_type": "execute_result"
    }
   ],
   "source": [
    "#Create a new dictionary, and convert it to a dataframe\n",
    "\n",
    "x = {'Name': ['Rose','John', 'Jane', 'Mary'], 'ID': [1, 2, 3, 4], 'Department': ['Architect Group', 'Software Group', 'Architect Group', 'Infrastructure'], \n",
    "      'Salary':[100000, 80000, 50000, 60000]}\n",
    "#name, id, department, and salary are the columns/objects\n",
    "#the value on its list is the observation\n",
    "\n",
    "#cast the dictionary to a dataframe, with customize index\n",
    "df = pd.DataFrame(x,index = range(1,5))\n",
    "\n",
    "#print the result\n",
    "df"
   ]
  },
  {
   "cell_type": "code",
   "execution_count": 4,
   "id": "85be2d06",
   "metadata": {},
   "outputs": [
    {
     "data": {
      "text/html": [
       "<div>\n",
       "<style scoped>\n",
       "    .dataframe tbody tr th:only-of-type {\n",
       "        vertical-align: middle;\n",
       "    }\n",
       "\n",
       "    .dataframe tbody tr th {\n",
       "        vertical-align: top;\n",
       "    }\n",
       "\n",
       "    .dataframe thead th {\n",
       "        text-align: right;\n",
       "    }\n",
       "</style>\n",
       "<table border=\"1\" class=\"dataframe\">\n",
       "  <thead>\n",
       "    <tr style=\"text-align: right;\">\n",
       "      <th></th>\n",
       "      <th>Name</th>\n",
       "      <th>ID</th>\n",
       "    </tr>\n",
       "  </thead>\n",
       "  <tbody>\n",
       "    <tr>\n",
       "      <th>1</th>\n",
       "      <td>Rose</td>\n",
       "      <td>1</td>\n",
       "    </tr>\n",
       "    <tr>\n",
       "      <th>2</th>\n",
       "      <td>John</td>\n",
       "      <td>2</td>\n",
       "    </tr>\n",
       "    <tr>\n",
       "      <th>3</th>\n",
       "      <td>Jane</td>\n",
       "      <td>3</td>\n",
       "    </tr>\n",
       "    <tr>\n",
       "      <th>4</th>\n",
       "      <td>Mary</td>\n",
       "      <td>4</td>\n",
       "    </tr>\n",
       "  </tbody>\n",
       "</table>\n",
       "</div>"
      ],
      "text/plain": [
       "   Name  ID\n",
       "1  Rose   1\n",
       "2  John   2\n",
       "3  Jane   3\n",
       "4  Mary   4"
      ]
     },
     "execution_count": 4,
     "metadata": {},
     "output_type": "execute_result"
    }
   ],
   "source": [
    "#create a subset columns to a new dataframe from the old one\n",
    "\n",
    "df2 = df[['Name','ID']]\n",
    "df2\n",
    "#we need 2 kurung siku, because the first is to slice the dataframe, and the second is to make it as a list"
   ]
  },
  {
   "cell_type": "code",
   "execution_count": 10,
   "id": "e0a4379b",
   "metadata": {},
   "outputs": [
    {
     "name": "stdout",
     "output_type": "stream",
     "text": [
      "Architect Group\n",
      "=======\n",
      "   ID       Department\n",
      "1   1  Architect Group\n",
      "2   2   Software Group\n",
      "3   3  Architect Group\n",
      "=======\n",
      "   ID       Department\n",
      "1   1  Architect Group\n",
      "2   2   Software Group\n",
      "3   3  Architect Group\n",
      "=======\n",
      "1    100000\n",
      "2     80000\n",
      "3     50000\n",
      "4     60000\n",
      "Name: Salary, dtype: int64\n"
     ]
    }
   ],
   "source": [
    "#acces and slicing the value by loc and iloc function\n",
    "#loc = colnames, iloc = colindex\n",
    "\n",
    "#accesing\n",
    "z = df.iloc[0,2]\n",
    "print(z)\n",
    "print('=======')\n",
    "\n",
    "#Slicing\n",
    "a = df.iloc[0:3,1:3]\n",
    "print(a)\n",
    "\n",
    "print('=======')\n",
    "\n",
    "b = df.loc[0:3,['ID','Department']]\n",
    "print(b)\n",
    "\n",
    "print('=======')\n",
    "\n",
    "c = df.iloc[:,3]\n",
    "print(c)\n",
    "#Notes! Just empty the first argument, if want to select all rows"
   ]
  },
  {
   "cell_type": "code",
   "execution_count": null,
   "id": "f033eaf5",
   "metadata": {},
   "outputs": [],
   "source": [
    "#change the index into once of dictionary values\n",
    "df3 = df.set_index('Name')\n",
    "df3"
   ]
  },
  {
   "cell_type": "code",
   "execution_count": null,
   "id": "cc3dc413",
   "metadata": {},
   "outputs": [],
   "source": [
    "#change the index to a list or range provided\n",
    "x = [1,2,3,4]\n",
    "df4 = df\n",
    "df4.index = x\n",
    "df4"
   ]
  },
  {
   "cell_type": "code",
   "execution_count": null,
   "id": "6857a690",
   "metadata": {},
   "outputs": [],
   "source": [
    "#finding some unique element\n",
    "dunique = df['Department'].unique()\n",
    "print(dunique)"
   ]
  },
  {
   "cell_type": "code",
   "execution_count": null,
   "id": "437fb4e0",
   "metadata": {},
   "outputs": [],
   "source": [
    "#filtering conditional\n",
    "filtered = df[df['ID']>2]\n",
    "filtered"
   ]
  },
  {
   "cell_type": "markdown",
   "id": "636ac5df",
   "metadata": {},
   "source": [
    "DataFrames provide numerous attributes and methods for data manipulation and analysis, including:\n",
    "\n",
    "* shape: Returns the dimensions (number of rows and columns) of the DataFrame.\n",
    "* info(): Provides a summary of the DataFrame, including data types and non-null counts.\n",
    "* describe(): Generates summary statistics for numerical columns.\n",
    "* head(), tail(): Displays the first or last n rows of the DataFrame.\n",
    "* mean(), sum(), min(), max(): Calculate summary statistics for columns.\n",
    "* sort_values(): Sort the DataFrame by one or more columns.\n",
    "* groupby(): Group data based on specific columns for aggregation* .\n",
    "* fillna(), drop(), rename(): Handle missing values, drop columns, or rename columns.\n",
    "* apply(): Apply a function to each element, row, or column of the DataFrame."
   ]
  },
  {
   "cell_type": "code",
   "execution_count": null,
   "id": "3f3239df",
   "metadata": {},
   "outputs": [],
   "source": []
  }
 ],
 "metadata": {
  "kernelspec": {
   "display_name": "Python 3 (ipykernel)",
   "language": "python",
   "name": "python3"
  },
  "language_info": {
   "codemirror_mode": {
    "name": "ipython",
    "version": 3
   },
   "file_extension": ".py",
   "mimetype": "text/x-python",
   "name": "python",
   "nbconvert_exporter": "python",
   "pygments_lexer": "ipython3",
   "version": "3.11.4"
  }
 },
 "nbformat": 4,
 "nbformat_minor": 5
}
