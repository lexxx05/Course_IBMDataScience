{
 "cells": [
  {
   "cell_type": "markdown",
   "id": "62efaebb",
   "metadata": {},
   "source": [
    "# Loops and Interation in Python"
   ]
  },
  {
   "cell_type": "markdown",
   "id": "4a8f6cbb",
   "metadata": {},
   "source": [
    "Loop allows a computer to do something (iterate something) over and over again, they repewat a set of instructions as many times as needed.\n",
    "\n",
    "It works based on some general flow :\n",
    "* Initialization, state a variable that will take on each value on the sequence (as the starting point)\n",
    "* Condition, specify the keyword in and a seqence, that the loop will iterate through\n",
    "* Statement, the block of code that we want to repeat for each iteration of value in the sequence\n",
    "* Update, make the changes of your starting point\n",
    "* Repeat, the iteration continues to repeat the statement (block of code) for each value in the sequence until there are no more values left."
   ]
  },
  {
   "cell_type": "markdown",
   "id": "6bb78f75",
   "metadata": {},
   "source": [
    "# For Loops"
   ]
  },
  {
   "cell_type": "markdown",
   "id": "23db0cd4",
   "metadata": {},
   "source": [
    "For loops in programming is a control structure that allows the repeated execution of a set of statements for each item in a sequence.\n",
    "\n",
    "For loops can be used when we know the number of iterations, the length of sequence, and want to process each element in a sequence. "
   ]
  },
  {
   "cell_type": "code",
   "execution_count": 1,
   "id": "b7392c15",
   "metadata": {},
   "outputs": [
    {
     "name": "stdout",
     "output_type": "stream",
     "text": [
      "range(0, 3)\n",
      "0\n",
      "1\n",
      "2\n",
      "3\n",
      "4\n",
      "5\n",
      "6\n",
      "7\n",
      "1982\n",
      "2005\n",
      "1672\n",
      "1877\n",
      "1554\n",
      "before square  0  is  red\n",
      "now, it is  white\n",
      "before square  1  is  yellow\n",
      "now, it is  white\n",
      "before square  2  is  green\n",
      "now, it is  white\n",
      "At position 0 I found apple\n",
      "At position 1 I found banana\n"
     ]
    }
   ],
   "source": [
    "#range is an ordered list object. It will generate an ordered number as the parameter\n",
    "print(range(3))\n",
    "\n",
    "for i in range(0,8):\n",
    "    print (i)\n",
    "\n",
    "    \n",
    "dates = [1982,2005,1672,1877,1554]\n",
    "n = len(dates)\n",
    "\n",
    "for i in range(n):\n",
    "    print (dates[i])\n",
    "#it will be same as :\n",
    "#for i in dates : print (i)\n",
    "\n",
    "\n",
    "#it can also be used for change the value of elements\n",
    "squares = ['red','yellow','green']\n",
    "for i in range(len(squares)):\n",
    "    print (\"before square \",i,\" is \",squares[i])\n",
    "    squares[i] = 'white'\n",
    "    print(\"now, it is \",squares[i])\n",
    "    \n",
    "#Enumerated for loop\n",
    "fruits = ['apple','banana']\n",
    "for index, frut in enumerate(fruits):\n",
    "    print (\"At position\",index,\"I found\",frut)"
   ]
  },
  {
   "cell_type": "markdown",
   "id": "f7daa42a",
   "metadata": {},
   "source": [
    "# While Loops"
   ]
  },
  {
   "cell_type": "markdown",
   "id": "8aa37836",
   "metadata": {},
   "source": [
    "While loops repeat a task as long as its certain condition is true.\n",
    "\n",
    "While loops can be used when we need to perform a task repeatedly as long as a certain condition holds true. Or in a condition then the iteration number is uncertain or when we're waiting for a specific condition to be met"
   ]
  },
  {
   "cell_type": "code",
   "execution_count": 2,
   "id": "7e35e5de",
   "metadata": {},
   "outputs": [
    {
     "name": "stdout",
     "output_type": "stream",
     "text": [
      "1\n",
      "2\n",
      "3\n",
      "4\n",
      "5\n",
      "6\n",
      "7\n",
      "8\n",
      "9\n"
     ]
    }
   ],
   "source": [
    "count = 1\n",
    "while count < 10:\n",
    "    print(count)\n",
    "    count += 1"
   ]
  },
  {
   "cell_type": "code",
   "execution_count": 3,
   "id": "38af3563",
   "metadata": {},
   "outputs": [
    {
     "name": "stdout",
     "output_type": "stream",
     "text": [
      "1982\n",
      "1980\n"
     ]
    }
   ],
   "source": [
    "dates = [1982, 1980, 1973, 2000]\n",
    "\n",
    "i = 0\n",
    "year = dates[0]\n",
    "while (year!=1973):\n",
    "    print (year)\n",
    "    i+=1\n",
    "    year = dates[i]"
   ]
  },
  {
   "cell_type": "code",
   "execution_count": null,
   "id": "34302334",
   "metadata": {},
   "outputs": [],
   "source": []
  }
 ],
 "metadata": {
  "kernelspec": {
   "display_name": "Python 3 (ipykernel)",
   "language": "python",
   "name": "python3"
  },
  "language_info": {
   "codemirror_mode": {
    "name": "ipython",
    "version": 3
   },
   "file_extension": ".py",
   "mimetype": "text/x-python",
   "name": "python",
   "nbconvert_exporter": "python",
   "pygments_lexer": "ipython3",
   "version": "3.11.4"
  }
 },
 "nbformat": 4,
 "nbformat_minor": 5
}
