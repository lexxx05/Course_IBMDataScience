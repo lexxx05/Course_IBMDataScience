{
 "cells": [
  {
   "cell_type": "markdown",
   "id": "4c0ffdb4",
   "metadata": {},
   "source": [
    "# 1 Dimensional Array"
   ]
  },
  {
   "cell_type": "code",
   "execution_count": 1,
   "id": "560a14a8",
   "metadata": {},
   "outputs": [],
   "source": [
    "#import the library\n",
    "import numpy as np"
   ]
  },
  {
   "cell_type": "code",
   "execution_count": 2,
   "id": "df834f09",
   "metadata": {},
   "outputs": [
    {
     "data": {
      "text/plain": [
       "array([ 0,  5, 10,  3,  8])"
      ]
     },
     "execution_count": 2,
     "metadata": {},
     "output_type": "execute_result"
    }
   ],
   "source": [
    "#create a numpy array\n",
    "\n",
    "lists = [0,5,10,3,8]\n",
    "a = np.array(lists)\n",
    "a"
   ]
  },
  {
   "cell_type": "code",
   "execution_count": 3,
   "id": "09952157",
   "metadata": {},
   "outputs": [
    {
     "name": "stdout",
     "output_type": "stream",
     "text": [
      "0\n",
      "5\n",
      "10\n",
      "3\n",
      "8\n"
     ]
    }
   ],
   "source": [
    "#acces each element with the square bracket indexing\n",
    "idx = 0\n",
    "for i in range(len(a)):\n",
    "    print (a[idx])\n",
    "    idx += 1"
   ]
  },
  {
   "cell_type": "code",
   "execution_count": 4,
   "id": "375cf4b4",
   "metadata": {},
   "outputs": [
    {
     "data": {
      "text/plain": [
       "array([100,   5,  10,  75,   8])"
      ]
     },
     "execution_count": 4,
     "metadata": {},
     "output_type": "execute_result"
    }
   ],
   "source": [
    "#Set the element into the another value\n",
    "a[0] = 100\n",
    "a[3] = 75\n",
    "a"
   ]
  },
  {
   "cell_type": "code",
   "execution_count": 5,
   "id": "d3bbf746",
   "metadata": {},
   "outputs": [
    {
     "name": "stdout",
     "output_type": "stream",
     "text": [
      "[ 5 10 75]\n",
      "[100   5]\n",
      "[10 75  8]\n",
      "[100  75]\n",
      "[ 5 10 75]\n"
     ]
    }
   ],
   "source": [
    "#slicing array elements\n",
    "print(a[1:4])\n",
    "print(a[:2])\n",
    "print(a[2:])\n",
    "print(a[0:4:3])\n",
    "\n",
    "#slicing with the index's list\n",
    "key = [1,2,3]\n",
    "c = a[key]\n",
    "print(c)"
   ]
  },
  {
   "cell_type": "code",
   "execution_count": 6,
   "id": "e79fde8a",
   "metadata": {},
   "outputs": [
    {
     "name": "stdout",
     "output_type": "stream",
     "text": [
      "5\n",
      "1\n",
      "(5,)\n"
     ]
    }
   ],
   "source": [
    "#The others attribute\n",
    "print(a.size) #number of elements on the array\n",
    "print(a.ndim) #number of array dimension\n",
    "print(a.shape) #tuple that indicate the array's size in each dimension"
   ]
  },
  {
   "cell_type": "code",
   "execution_count": 7,
   "id": "5ee9adf5",
   "metadata": {},
   "outputs": [
    {
     "name": "stdout",
     "output_type": "stream",
     "text": [
      "39.6\n",
      "39.93294379331431\n",
      "100\n",
      "5\n"
     ]
    }
   ],
   "source": [
    "#Numpy statistical function\n",
    "print(a.mean())\n",
    "print(a.std())\n",
    "print(a.max())\n",
    "print(a.min())"
   ]
  },
  {
   "cell_type": "code",
   "execution_count": 8,
   "id": "69057f72",
   "metadata": {},
   "outputs": [
    {
     "name": "stdout",
     "output_type": "stream",
     "text": [
      "[1 1]\n"
     ]
    }
   ],
   "source": [
    "#numpy operation\n",
    "\n",
    "#addition\n",
    "u = np.array([0,1])\n",
    "v = np.array([1,0])\n",
    "z = u+v\n",
    "print(z)"
   ]
  },
  {
   "cell_type": "code",
   "execution_count": 9,
   "id": "ff404ddd",
   "metadata": {},
   "outputs": [
    {
     "data": {
      "image/png": "[encoded data removed]",
      "text/plain": [
       "<Figure size 640x480 with 1 Axes>"
      ]
     },
     "metadata": {},
     "output_type": "display_data"
    }
   ],
   "source": [
    "#The proof that the addition operation is same as vector operation\n",
    "import time \n",
    "import sys\n",
    "import numpy as np \n",
    "\n",
    "import matplotlib.pyplot as plt\n",
    "\n",
    "\n",
    "def Plotvec1(u, z, v):\n",
    "    \n",
    "    ax = plt.axes() # to generate the full window axes\n",
    "    ax.arrow(0, 0, *u, head_width=0.05, color='r', head_length=0.1)# Add an arrow to the  U Axes with arrow head width 0.05, color red and arrow head length 0.1\n",
    "    plt.text(*(u + 0.1), 'u')#Adds the text u to the Axes \n",
    "    \n",
    "    ax.arrow(0, 0, *v, head_width=0.05, color='b', head_length=0.1)# Add an arrow to the  v Axes with arrow head width 0.05, color red and arrow head length 0.1\n",
    "    plt.text(*(v + 0.1), 'v')#Adds the text v to the Axes \n",
    "    \n",
    "    ax.arrow(0, 0, *z, head_width=0.05, head_length=0.1)\n",
    "    plt.text(*(z + 0.1), 'z')#Adds the text z to the Axes \n",
    "    plt.ylim(-2, 2)#set the ylim to bottom(-2), top(2)\n",
    "    plt.xlim(-2, 2)#set the xlim to left(-2), right(2)\n",
    "\n",
    "Plotvec1(u, z, v)"
   ]
  },
  {
   "cell_type": "code",
   "execution_count": 10,
   "id": "65ccbd90",
   "metadata": {},
   "outputs": [
    {
     "name": "stdout",
     "output_type": "stream",
     "text": [
      "[-2 -2]\n",
      "[3 8]\n",
      "[0.33333333 0.5       ]\n",
      "11\n",
      "[2 3]\n"
     ]
    }
   ],
   "source": [
    "#another vector operation\n",
    "a = np.array([1,2])\n",
    "b = np.array([3,4])\n",
    "\n",
    "\n",
    "#substraction\n",
    "c = np.subtract(a,b)\n",
    "print(c)\n",
    "\n",
    "#muktiplication\n",
    "z = np.multiply(a,b)\n",
    "print(z)\n",
    "\n",
    "#division\n",
    "y = np.divide(a,b)\n",
    "print(y)\n",
    "\n",
    "#dot product\n",
    "z = np.dot(a,b)\n",
    "print(z)\n",
    "\n",
    "#add constant number to every element\n",
    "print(a+1)"
   ]
  },
  {
   "cell_type": "code",
   "execution_count": 11,
   "id": "57cb3ad7",
   "metadata": {},
   "outputs": [
    {
     "name": "stdout",
     "output_type": "stream",
     "text": [
      "3.141592653589793\n",
      "[0.0000000e+00 1.0000000e+00 1.2246468e-16]\n"
     ]
    }
   ],
   "source": [
    "#Mathematical functions\n",
    "print (np.pi)\n",
    "\n",
    "x = np.array([0, np.pi/2, np.pi])\n",
    "y = np.sin(x)\n",
    "print (y)"
   ]
  },
  {
   "cell_type": "code",
   "execution_count": 12,
   "id": "a6af5731",
   "metadata": {},
   "outputs": [
    {
     "name": "stdout",
     "output_type": "stream",
     "text": [
      "[ 0.  1.  2.  3.  4.  5.  6.  7.  8.  9. 10.]\n",
      "[ 0.   2.5  5.   7.5 10. ]\n"
     ]
    }
   ],
   "source": [
    "#Linspace\n",
    "x = np.linspace(0,10,11)\n",
    "print(x)\n",
    "\n",
    "y = np.linspace(0,10,5)\n",
    "print(y)"
   ]
  },
  {
   "cell_type": "code",
   "execution_count": 13,
   "id": "d0415c92",
   "metadata": {},
   "outputs": [
    {
     "data": {
      "text/plain": [
       "[<matplotlib.lines.Line2D at 0x2adf30bf290>]"
      ]
     },
     "execution_count": 13,
     "metadata": {},
     "output_type": "execute_result"
    },
    {
     "data": {
      "image/png": "[encoded data removed]",
      "text/plain": [
       "<Figure size 640x480 with 1 Axes>"
      ]
     },
     "metadata": {},
     "output_type": "display_data"
    }
   ],
   "source": [
    "#Application of function n linspace\n",
    "x = np.linspace(0,2*np.pi,100)\n",
    "y = np.sin(x)\n",
    "\n",
    "plt.plot(x,y)"
   ]
  },
  {
   "cell_type": "markdown",
   "id": "53378003",
   "metadata": {},
   "source": [
    "# 2 Dimensional Array"
   ]
  },
  {
   "cell_type": "code",
   "execution_count": 18,
   "id": "6f1a8b16",
   "metadata": {},
   "outputs": [
    {
     "name": "stdout",
     "output_type": "stream",
     "text": [
      "[[1, 2, 3], [4, 5, 6], [7, 8, 9]]\n",
      "[[1 2 3]\n",
      " [4 5 6]\n",
      " [7 8 9]]\n",
      "2\n",
      "(3, 3)\n",
      "9\n"
     ]
    }
   ],
   "source": [
    "#create lists in a list\n",
    "a = [[1,2,3],[4,5,6],[7,8,9]]\n",
    "print (a)\n",
    "\n",
    "#convert the list into an array\n",
    "A = np.array(a)\n",
    "print (A)\n",
    "\n",
    "#Get some properties for the array that have created\n",
    "print (A.ndim) #array's dimension\n",
    "print (A.shape) #array's shape (size each dimension)\n",
    "print (A.size) #array's size (total number of elements)"
   ]
  },
  {
   "cell_type": "code",
   "execution_count": 30,
   "id": "4ed89a83",
   "metadata": {},
   "outputs": [
    {
     "name": "stdout",
     "output_type": "stream",
     "text": [
      "6\n",
      "1\n",
      "[1 2]\n",
      "[1 2]\n",
      "[1 2 3]\n",
      "[1 4 7]\n"
     ]
    }
   ],
   "source": [
    "#Accesing elements of the arrays\n",
    "\n",
    "print(A[1][2]) #second row, third column\n",
    "print(A[0][0]) #first row, first column\n",
    "print(A[0][0:2]) #first row, first until third column\n",
    "print(A[0,0:2]) #the another syntax of above\n",
    "print(A[0]) #the entire of first row\n",
    "print(A[:,0]) #the entire of first column"
   ]
  },
  {
   "cell_type": "code",
   "execution_count": 57,
   "id": "5e467d65",
   "metadata": {},
   "outputs": [
    {
     "name": "stdout",
     "output_type": "stream",
     "text": [
      "[[3 1]\n",
      " [4 4]]\n",
      "==========\n",
      "[[-1 -1]\n",
      " [-4 -2]]\n",
      "==========\n",
      "[[2 0]\n",
      " [0 2]]\n",
      "==========\n",
      "[[2 0]\n",
      " [0 3]]\n",
      "==========\n",
      "[[2 1]\n",
      " [4 3]]\n",
      "==========\n",
      "2\n",
      "==========\n",
      "2.5\n",
      "==========\n",
      "1\n",
      "==========\n",
      "[[2 5]\n",
      " [3 3]\n",
      " [1 0]]\n",
      "==========\n",
      "[[2 3]\n",
      " [5 1]\n",
      " [3 0]]\n"
     ]
    }
   ],
   "source": [
    "#Array's Operation\n",
    "x = np.array([[1,0],[0,1]])\n",
    "y = np.array([[2,1],[4,3]])\n",
    "z = np.array([[2,5,3],[3,1,0]])\n",
    "\n",
    "\n",
    "print (x+y) #addition\n",
    "print ('==========')\n",
    "print (x-y) #subtraction\n",
    "print ('==========')\n",
    "print (2*x) #multiply by scalar\n",
    "print ('==========')\n",
    "print (x*y) #hadamard product, product each element in matrix, result : matrix\n",
    "print ('==========')\n",
    "print (np.dot(x,y)) #calculate the dot product, row x column\n",
    "print ('==========')\n",
    "print (np.sum(x)) #calculate the sum\n",
    "print ('==========')\n",
    "print (np.mean(y)) #calculate the mean\n",
    "print ('==========')\n",
    "print (np.max(x)) #finding the max\n",
    "print ('==========')\n",
    "print (z.reshape(3,2)) #reshape the matrix\n",
    "print ('==========')\n",
    "print(z.T) #finding the matrix transpose"
   ]
  },
  {
   "cell_type": "code",
   "execution_count": null,
   "id": "d11097fb",
   "metadata": {},
   "outputs": [],
   "source": []
  }
 ],
 "metadata": {
  "kernelspec": {
   "display_name": "Python 3 (ipykernel)",
   "language": "python",
   "name": "python3"
  },
  "language_info": {
   "codemirror_mode": {
    "name": "ipython",
    "version": 3
   },
   "file_extension": ".py",
   "mimetype": "text/x-python",
   "name": "python",
   "nbconvert_exporter": "python",
   "pygments_lexer": "ipython3",
   "version": "3.11.4"
  }
 },
 "nbformat": 4,
 "nbformat_minor": 5
}
