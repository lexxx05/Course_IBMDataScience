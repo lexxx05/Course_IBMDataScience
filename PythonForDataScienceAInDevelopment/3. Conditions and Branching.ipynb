{
 "cells": [
  {
   "cell_type": "markdown",
   "id": "2fca312a",
   "metadata": {},
   "source": [
    "# Condition Statements"
   ]
  },
  {
   "cell_type": "markdown",
   "id": "88a0e52c",
   "metadata": {},
   "source": [
    "There are some comparison operations that compare some value or operand and based on a condition, produce a boolean. \n",
    "\n",
    "To compare two values, we can use theese operators:\n",
    "<ul>\n",
    " <li>equal: <b>==</b></li>\n",
    "    <li>not equal: <b>!=</b></li>\n",
    "    <li>greater than: <b>></b></li>\n",
    "    <li>less than: <b>&lt;</b></li>\n",
    "    <li>greater than or equal to: <b>>=</b></li>\n",
    "    <li>less than or equal to: <b>&lt;=</b></li>\n",
    " </ul>"
   ]
  },
  {
   "cell_type": "code",
   "execution_count": 8,
   "id": "2057b63c",
   "metadata": {},
   "outputs": [
    {
     "name": "stdout",
     "output_type": "stream",
     "text": [
      "False\n",
      "True\n",
      "True\n",
      "False\n"
     ]
    }
   ],
   "source": [
    "#Integer Conditional\n",
    "a = 5\n",
    "\n",
    "#equal condition\n",
    "print(a==6)\n",
    "#inequal condition\n",
    "print(a!=6)\n",
    "#greater than condition\n",
    "print(a>2)\n",
    "#less than condition\n",
    "print(a<2)"
   ]
  },
  {
   "cell_type": "code",
   "execution_count": 12,
   "id": "bad6d2b8",
   "metadata": {},
   "outputs": [
    {
     "name": "stdout",
     "output_type": "stream",
     "text": [
      "False\n",
      "True\n",
      "False\n",
      "True\n"
     ]
    }
   ],
   "source": [
    "#String Conditional\n",
    "\n",
    "print(\"ABC\" == \"ABD\")\n",
    "print(\"ABC\" != \"ABD\")\n",
    "print(\"ABC\" > \"ABD\")\n",
    "print(\"ABC\" < \"ABD\")"
   ]
  },
  {
   "cell_type": "markdown",
   "id": "ab3abe78",
   "metadata": {},
   "source": [
    "# Branching"
   ]
  },
  {
   "cell_type": "markdown",
   "id": "d11a85a2",
   "metadata": {},
   "source": [
    "Branching allows us to run different statements for different inputs. Branching is a conditional statement, that if a condition is fullfiled, so it will run the commands. \n",
    "Branching is helpful to think of an **if statement** as a locked room, if the statement is **True** we can enter the room and your program will run some predefined tasks, but if the statement is **False** the program will ignore the task.\n"
   ]
  },
  {
   "cell_type": "code",
   "execution_count": 14,
   "id": "0b47c361",
   "metadata": {},
   "outputs": [
    {
     "name": "stdout",
     "output_type": "stream",
     "text": [
      "You're young enough\n",
      "Move On!\n"
     ]
    }
   ],
   "source": [
    "age = 19\n",
    "\n",
    "if (age<18):\n",
    "    print (\"You can enter\")\n",
    "elif (age == 19):\n",
    "    print (\"You're young enough\")\n",
    "else:\n",
    "    print (\"Go to see a Meat Loaf!\")\n",
    "    \n",
    "print(\"Move On!\")"
   ]
  },
  {
   "cell_type": "markdown",
   "id": "ebd3114d",
   "metadata": {},
   "source": [
    "# Logical Operators"
   ]
  },
  {
   "cell_type": "markdown",
   "id": "9eccdda0",
   "metadata": {},
   "source": [
    "Basically, there are 3 logical operators to combine or modify a condition, which is\n",
    "* and\n",
    "* or\n",
    "* not\n",
    "\n",
    "These operators are summarized for two variables using the following truth tables :\n",
    "<img src=\"https://cf-courses-data.s3.us.cloud-object-storage.appdomain.cloud/IBMDeveloperSkillsNetwork-PY0101EN-SkillsNetwork/labs/Module%203/images/CondsTable.png\" width=\"650\">"
   ]
  },
  {
   "cell_type": "code",
   "execution_count": 18,
   "id": "c46611b7",
   "metadata": {},
   "outputs": [
    {
     "name": "stdout",
     "output_type": "stream",
     "text": [
      "Its exclude!\n",
      "\n",
      "Continue...\n"
     ]
    }
   ],
   "source": [
    "#And operator, need 2 truth for true, else false\n",
    "album = 2001\n",
    "\n",
    "if (album>1970) and (album<2000):\n",
    "    print (\"That's between 1980 and 2000\")\n",
    "else:\n",
    "    print (\"Its exclude!\")\n",
    "print (\"\")\n",
    "print (\"Continue...\")"
   ]
  },
  {
   "cell_type": "code",
   "execution_count": 19,
   "id": "11955b07",
   "metadata": {},
   "outputs": [
    {
     "name": "stdout",
     "output_type": "stream",
     "text": [
      "That's correct!\n",
      "\n",
      "Continue...\n"
     ]
    }
   ],
   "source": [
    "#Or operator, need 2 false for false, else true\n",
    "\n",
    "album = 2001\n",
    "\n",
    "if (album<1970) or (album>2000):\n",
    "    print (\"That's correct!\")\n",
    "else:\n",
    "    print (\"Its exclude!\")\n",
    "print (\"\")\n",
    "print (\"Continue...\")"
   ]
  },
  {
   "cell_type": "code",
   "execution_count": null,
   "id": "36d9d595",
   "metadata": {},
   "outputs": [],
   "source": []
  }
 ],
 "metadata": {
  "kernelspec": {
   "display_name": "Python 3 (ipykernel)",
   "language": "python",
   "name": "python3"
  },
  "language_info": {
   "codemirror_mode": {
    "name": "ipython",
    "version": 3
   },
   "file_extension": ".py",
   "mimetype": "text/x-python",
   "name": "python",
   "nbconvert_exporter": "python",
   "pygments_lexer": "ipython3",
   "version": "3.11.4"
  }
 },
 "nbformat": 4,
 "nbformat_minor": 5
}
