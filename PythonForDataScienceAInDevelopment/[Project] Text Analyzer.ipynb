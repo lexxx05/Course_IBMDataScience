{
 "cells": [
  {
   "cell_type": "code",
   "execution_count": 2,
   "id": "5752d0cc",
   "metadata": {},
   "outputs": [],
   "source": [
    "#Declare a textAnalyzer class that will lowercased and remove punctuation from the string\n",
    "\n",
    "class textAnalyzer(object):\n",
    "    def __init__(self,text):\n",
    "        \n",
    "        #remove the punctuation\n",
    "        formated = text.replace('.','').replace(',','').replace('?','').replace('!','')\n",
    "        \n",
    "        #make the text lowercase\n",
    "        formated = formated.lower()\n",
    "        \n",
    "        #assign the formated to class' atributes\n",
    "        self.fmtText = formated\n",
    "    \n",
    "    def freqAll(self):\n",
    "        #make a list that contains each word of the splitted string\n",
    "        wordList = self.fmtText.split()\n",
    "        \n",
    "        #make an empty dictionary to count the word\n",
    "        dictWord = {}\n",
    "        \n",
    "        #make an iteration\n",
    "        #the dictionary's key (which is the unique value from the list)\n",
    "        #and the value, which is the word count from the wordList\n",
    "        for word in wordList:\n",
    "            dictWord[word] = wordList.count(word)\n",
    "        \n",
    "        return dictWord\n",
    "    \n",
    "    #a function to count the specific word\n",
    "    def freOf(self,word):\n",
    "        #call the freqAll function, and assign it's dictionary return into count\n",
    "        count = self.freqAll()\n",
    "        \n",
    "        #if the word is exist in the dictionary, then return its value\n",
    "        if word in count:\n",
    "            return count[word]\n",
    "        #if it is not, then return 0\n",
    "        else:\n",
    "            return 0"
   ]
  },
  {
   "cell_type": "code",
   "execution_count": 12,
   "id": "1a164099",
   "metadata": {},
   "outputs": [
    {
     "name": "stdout",
     "output_type": "stream",
     "text": [
      "lorem ipsum dolor diam amet consetetur lorem magna sed diam nonumy eirmod tempor diam et labore et diam magna et diam amet\n",
      "\n",
      "{'lorem': 2, 'ipsum': 1, 'dolor': 1, 'diam': 5, 'amet': 2, 'consetetur': 1, 'magna': 2, 'sed': 1, 'nonumy': 1, 'eirmod': 1, 'tempor': 1, 'et': 3, 'labore': 1}\n",
      "\n",
      "Lorem = 2\n"
     ]
    }
   ],
   "source": [
    "#Execute and generate the input n output of the class\n",
    "\n",
    "#assign the string to 'text1' object in a textAnalyzer class\n",
    "string = \"Lorem ipsum dolor! diam amet, consetetur Lorem magna. sed diam nonumy eirmod tempor. diam et labore? et diam magna. et diam amet.\"\n",
    "text1 = textAnalyzer(string)\n",
    "\n",
    "#call the function to converts all the data to lowercase\n",
    "print (text1.fmtText)\n",
    "\n",
    "#call the function to counts the frequency all unique words from the data\n",
    "print (\"\")\n",
    "print (text1.freqAll())\n",
    "\n",
    "#call the function that counts the frequency of a specific word\n",
    "print (\"\")\n",
    "print (\"Lorem =\",text1.freOf('lorem'))"
   ]
  },
  {
   "cell_type": "code",
   "execution_count": null,
   "id": "88f920fb",
   "metadata": {},
   "outputs": [],
   "source": []
  }
 ],
 "metadata": {
  "kernelspec": {
   "display_name": "Python 3 (ipykernel)",
   "language": "python",
   "name": "python3"
  },
  "language_info": {
   "codemirror_mode": {
    "name": "ipython",
    "version": 3
   },
   "file_extension": ".py",
   "mimetype": "text/x-python",
   "name": "python",
   "nbconvert_exporter": "python",
   "pygments_lexer": "ipython3",
   "version": "3.11.4"
  }
 },
 "nbformat": 4,
 "nbformat_minor": 5
}
